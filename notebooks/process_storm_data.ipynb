{
 "cells": [
  {
   "cell_type": "code",
   "execution_count": 7,
   "metadata": {},
   "outputs": [],
   "source": [
    "import os \n",
    "os.chdir(\"/home/canyon/Bus-Weather-Impacts\")\n",
    "from src.utils import *\n",
    "import pandas as pd\n",
    "import numpy as np\n",
    "import geopandas as gpd\n",
    "import numpy as np\n",
    "pd.options.mode.chained_assignment = None\n",
    "import contextily as ctx\n",
    "from src.api import parse_zipped_gtfs\n",
    "from src.gtfs_segments import GTFS_shape_processor\n",
    "from src.speeds import BusSpeedCalculator"
   ]
  },
  {
   "cell_type": "code",
   "execution_count": 6,
   "metadata": {},
   "outputs": [],
   "source": [
    "GTFS_PATH = \"/home/data/bus-weather/raw_bus_gtfs_rt_202230917_20230930.parquet\"\n",
    "GTFS_rt_df = pd.read_parquet(GTFS_PATH).query(\"~`vehicle.trip.start_date`.isin(['20230916'])\")"
   ]
  },
  {
   "cell_type": "code",
   "execution_count": 4,
   "metadata": {},
   "outputs": [],
   "source": [
    "days = GTFS_rt_df[\"vehicle.trip.start_date\"].drop_duplicates().dropna().to_list()\n",
    "feeds = [\"https://transitfeeds.com/p/mta/80/20230918/download\", \"https://transitfeeds.com/p/mta/81/20230918/download\", \"https://transitfeeds.com/p/mta/83/20230918/download\", \"https://transitfeeds.com/p/mta/82/20230919/download\", \"https://transitfeeds.com/p/mta/84/20230919/download\", \"https://transitfeeds.com/p/mta/85/20230918/download\"]"
   ]
  },
  {
   "cell_type": "code",
   "execution_count": 5,
   "metadata": {},
   "outputs": [
    {
     "data": {
      "text/plain": [
       "['20230930',\n",
       " '20230924',\n",
       " '20230923',\n",
       " '20230921',\n",
       " '20230919',\n",
       " '20230922',\n",
       " '20230925',\n",
       " '20230918',\n",
       " '20230928',\n",
       " '20230929',\n",
       " '20230927',\n",
       " '20230920',\n",
       " '20230926',\n",
       " '20230915']"
      ]
     },
     "execution_count": 5,
     "metadata": {},
     "output_type": "execute_result"
    }
   ],
   "source": [
    "days"
   ]
  },
  {
   "cell_type": "code",
   "execution_count": 49,
   "metadata": {},
   "outputs": [
    {
     "name": "stdout",
     "output_type": "stream",
     "text": [
      "20230930\n"
     ]
    },
    {
     "name": "stderr",
     "output_type": "stream",
     "text": [
      "/home/canyon/.local/share/virtualenvs/TOP-Sprint-lAvM2-mU/lib/python3.9/site-packages/shapely/linear.py:88: RuntimeWarning: invalid value encountered in line_locate_point\n",
      "  return lib.line_locate_point(line, other)\n"
     ]
    },
    {
     "name": "stdout",
     "output_type": "stream",
     "text": [
      "Processing 10047 trips...\n"
     ]
    },
    {
     "name": "stderr",
     "output_type": "stream",
     "text": [
      "100%|██████████| 10047/10047 [04:06<00:00, 40.74it/s]\n",
      "/home/canyon/.local/share/virtualenvs/TOP-Sprint-lAvM2-mU/lib/python3.9/site-packages/shapely/linear.py:88: RuntimeWarning: invalid value encountered in line_locate_point\n",
      "  return lib.line_locate_point(line, other)\n",
      "/home/canyon/.local/share/virtualenvs/TOP-Sprint-lAvM2-mU/lib/python3.9/site-packages/shapely/measurement.py:72: RuntimeWarning: invalid value encountered in distance\n",
      "  return lib.distance(a, b, **kwargs)\n"
     ]
    },
    {
     "name": "stdout",
     "output_type": "stream",
     "text": [
      "Processing 6349 trips...\n"
     ]
    },
    {
     "name": "stderr",
     "output_type": "stream",
     "text": [
      "100%|██████████| 6349/6349 [02:03<00:00, 51.24it/s]\n",
      "/home/canyon/.local/share/virtualenvs/TOP-Sprint-lAvM2-mU/lib/python3.9/site-packages/shapely/linear.py:88: RuntimeWarning: invalid value encountered in line_locate_point\n",
      "  return lib.line_locate_point(line, other)\n"
     ]
    },
    {
     "name": "stdout",
     "output_type": "stream",
     "text": [
      "Processing 5023 trips...\n"
     ]
    },
    {
     "name": "stderr",
     "output_type": "stream",
     "text": [
      "100%|██████████| 5023/5023 [01:20<00:00, 62.16it/s] \n",
      "/home/canyon/.local/share/virtualenvs/TOP-Sprint-lAvM2-mU/lib/python3.9/site-packages/shapely/linear.py:88: RuntimeWarning: invalid value encountered in line_locate_point\n",
      "  return lib.line_locate_point(line, other)\n"
     ]
    },
    {
     "name": "stdout",
     "output_type": "stream",
     "text": [
      "Processing 6075 trips...\n"
     ]
    },
    {
     "name": "stderr",
     "output_type": "stream",
     "text": [
      "100%|██████████| 6075/6075 [01:57<00:00, 51.69it/s]\n",
      "/home/canyon/.local/share/virtualenvs/TOP-Sprint-lAvM2-mU/lib/python3.9/site-packages/shapely/linear.py:88: RuntimeWarning: invalid value encountered in line_locate_point\n",
      "  return lib.line_locate_point(line, other)\n"
     ]
    },
    {
     "name": "stdout",
     "output_type": "stream",
     "text": [
      "Processing 2305 trips...\n"
     ]
    },
    {
     "name": "stderr",
     "output_type": "stream",
     "text": [
      "100%|██████████| 2305/2305 [00:25<00:00, 91.73it/s] \n",
      "/home/canyon/.local/share/virtualenvs/TOP-Sprint-lAvM2-mU/lib/python3.9/site-packages/shapely/linear.py:88: RuntimeWarning: invalid value encountered in line_locate_point\n",
      "  return lib.line_locate_point(line, other)\n",
      "/home/canyon/.local/share/virtualenvs/TOP-Sprint-lAvM2-mU/lib/python3.9/site-packages/shapely/measurement.py:72: RuntimeWarning: invalid value encountered in distance\n",
      "  return lib.distance(a, b, **kwargs)\n"
     ]
    },
    {
     "name": "stdout",
     "output_type": "stream",
     "text": [
      "Processing 7034 trips...\n"
     ]
    },
    {
     "name": "stderr",
     "output_type": "stream",
     "text": [
      "100%|██████████| 7034/7034 [01:52<00:00, 62.26it/s] \n"
     ]
    },
    {
     "name": "stdout",
     "output_type": "stream",
     "text": [
      "wrote daily data for 20230930\n",
      "20230924\n"
     ]
    },
    {
     "name": "stderr",
     "output_type": "stream",
     "text": [
      "/home/canyon/.local/share/virtualenvs/TOP-Sprint-lAvM2-mU/lib/python3.9/site-packages/shapely/linear.py:88: RuntimeWarning: invalid value encountered in line_locate_point\n",
      "  return lib.line_locate_point(line, other)\n"
     ]
    },
    {
     "name": "stdout",
     "output_type": "stream",
     "text": [
      "Processing 10049 trips...\n"
     ]
    },
    {
     "name": "stderr",
     "output_type": "stream",
     "text": [
      "100%|██████████| 10049/10049 [04:07<00:00, 40.57it/s]\n",
      "/home/canyon/.local/share/virtualenvs/TOP-Sprint-lAvM2-mU/lib/python3.9/site-packages/shapely/linear.py:88: RuntimeWarning: invalid value encountered in line_locate_point\n",
      "  return lib.line_locate_point(line, other)\n",
      "/home/canyon/.local/share/virtualenvs/TOP-Sprint-lAvM2-mU/lib/python3.9/site-packages/shapely/measurement.py:72: RuntimeWarning: invalid value encountered in distance\n",
      "  return lib.distance(a, b, **kwargs)\n"
     ]
    },
    {
     "name": "stdout",
     "output_type": "stream",
     "text": [
      "Processing 6609 trips...\n"
     ]
    },
    {
     "name": "stderr",
     "output_type": "stream",
     "text": [
      "100%|██████████| 6609/6609 [02:09<00:00, 51.04it/s]\n",
      "/home/canyon/.local/share/virtualenvs/TOP-Sprint-lAvM2-mU/lib/python3.9/site-packages/shapely/linear.py:88: RuntimeWarning: invalid value encountered in line_locate_point\n",
      "  return lib.line_locate_point(line, other)\n"
     ]
    },
    {
     "name": "stdout",
     "output_type": "stream",
     "text": [
      "Processing 4893 trips...\n"
     ]
    },
    {
     "name": "stderr",
     "output_type": "stream",
     "text": [
      "100%|██████████| 4893/4893 [01:17<00:00, 62.90it/s] \n",
      "/home/canyon/.local/share/virtualenvs/TOP-Sprint-lAvM2-mU/lib/python3.9/site-packages/shapely/linear.py:88: RuntimeWarning: invalid value encountered in line_locate_point\n",
      "  return lib.line_locate_point(line, other)\n"
     ]
    },
    {
     "name": "stdout",
     "output_type": "stream",
     "text": [
      "Processing 6715 trips...\n"
     ]
    },
    {
     "name": "stderr",
     "output_type": "stream",
     "text": [
      "100%|██████████| 6715/6715 [02:16<00:00, 49.23it/s]\n",
      "/home/canyon/.local/share/virtualenvs/TOP-Sprint-lAvM2-mU/lib/python3.9/site-packages/shapely/linear.py:88: RuntimeWarning: invalid value encountered in line_locate_point\n",
      "  return lib.line_locate_point(line, other)\n"
     ]
    },
    {
     "name": "stdout",
     "output_type": "stream",
     "text": [
      "Processing 2175 trips...\n"
     ]
    },
    {
     "name": "stderr",
     "output_type": "stream",
     "text": [
      "100%|██████████| 2175/2175 [00:22<00:00, 98.48it/s] \n",
      "/home/canyon/.local/share/virtualenvs/TOP-Sprint-lAvM2-mU/lib/python3.9/site-packages/shapely/linear.py:88: RuntimeWarning: invalid value encountered in line_locate_point\n",
      "  return lib.line_locate_point(line, other)\n",
      "/home/canyon/.local/share/virtualenvs/TOP-Sprint-lAvM2-mU/lib/python3.9/site-packages/shapely/measurement.py:72: RuntimeWarning: invalid value encountered in distance\n",
      "  return lib.distance(a, b, **kwargs)\n"
     ]
    },
    {
     "name": "stdout",
     "output_type": "stream",
     "text": [
      "Processing 6754 trips...\n"
     ]
    },
    {
     "name": "stderr",
     "output_type": "stream",
     "text": [
      "100%|██████████| 6754/6754 [01:44<00:00, 64.86it/s] \n"
     ]
    },
    {
     "name": "stdout",
     "output_type": "stream",
     "text": [
      "wrote daily data for 20230924\n",
      "20230923\n"
     ]
    },
    {
     "name": "stderr",
     "output_type": "stream",
     "text": [
      "/home/canyon/.local/share/virtualenvs/TOP-Sprint-lAvM2-mU/lib/python3.9/site-packages/shapely/linear.py:88: RuntimeWarning: invalid value encountered in line_locate_point\n",
      "  return lib.line_locate_point(line, other)\n"
     ]
    },
    {
     "name": "stdout",
     "output_type": "stream",
     "text": [
      "Processing 12362 trips...\n"
     ]
    },
    {
     "name": "stderr",
     "output_type": "stream",
     "text": [
      "100%|██████████| 12362/12362 [05:48<00:00, 35.47it/s]\n",
      "/home/canyon/.local/share/virtualenvs/TOP-Sprint-lAvM2-mU/lib/python3.9/site-packages/shapely/linear.py:88: RuntimeWarning: invalid value encountered in line_locate_point\n",
      "  return lib.line_locate_point(line, other)\n",
      "/home/canyon/.local/share/virtualenvs/TOP-Sprint-lAvM2-mU/lib/python3.9/site-packages/shapely/measurement.py:72: RuntimeWarning: invalid value encountered in distance\n",
      "  return lib.distance(a, b, **kwargs)\n"
     ]
    },
    {
     "name": "stdout",
     "output_type": "stream",
     "text": [
      "Processing 7656 trips...\n"
     ]
    },
    {
     "name": "stderr",
     "output_type": "stream",
     "text": [
      "100%|██████████| 7656/7656 [02:50<00:00, 44.93it/s]\n",
      "/home/canyon/.local/share/virtualenvs/TOP-Sprint-lAvM2-mU/lib/python3.9/site-packages/shapely/linear.py:88: RuntimeWarning: invalid value encountered in line_locate_point\n",
      "  return lib.line_locate_point(line, other)\n"
     ]
    },
    {
     "name": "stdout",
     "output_type": "stream",
     "text": [
      "Processing 5919 trips...\n"
     ]
    },
    {
     "name": "stderr",
     "output_type": "stream",
     "text": [
      "100%|██████████| 5919/5919 [01:51<00:00, 53.08it/s]\n",
      "/home/canyon/.local/share/virtualenvs/TOP-Sprint-lAvM2-mU/lib/python3.9/site-packages/shapely/linear.py:88: RuntimeWarning: invalid value encountered in line_locate_point\n",
      "  return lib.line_locate_point(line, other)\n"
     ]
    },
    {
     "name": "stdout",
     "output_type": "stream",
     "text": [
      "Processing 7480 trips...\n"
     ]
    },
    {
     "name": "stderr",
     "output_type": "stream",
     "text": [
      "100%|██████████| 7480/7480 [02:52<00:00, 43.38it/s]\n",
      "/home/canyon/.local/share/virtualenvs/TOP-Sprint-lAvM2-mU/lib/python3.9/site-packages/shapely/linear.py:88: RuntimeWarning: invalid value encountered in line_locate_point\n",
      "  return lib.line_locate_point(line, other)\n"
     ]
    },
    {
     "name": "stdout",
     "output_type": "stream",
     "text": [
      "Processing 2795 trips...\n"
     ]
    },
    {
     "name": "stderr",
     "output_type": "stream",
     "text": [
      "100%|██████████| 2795/2795 [00:34<00:00, 81.65it/s] \n",
      "/home/canyon/.local/share/virtualenvs/TOP-Sprint-lAvM2-mU/lib/python3.9/site-packages/shapely/linear.py:88: RuntimeWarning: invalid value encountered in line_locate_point\n",
      "  return lib.line_locate_point(line, other)\n",
      "/home/canyon/.local/share/virtualenvs/TOP-Sprint-lAvM2-mU/lib/python3.9/site-packages/shapely/measurement.py:72: RuntimeWarning: invalid value encountered in distance\n",
      "  return lib.distance(a, b, **kwargs)\n"
     ]
    },
    {
     "name": "stdout",
     "output_type": "stream",
     "text": [
      "Processing 6161 trips...\n"
     ]
    },
    {
     "name": "stderr",
     "output_type": "stream",
     "text": [
      "100%|██████████| 6161/6161 [01:39<00:00, 61.93it/s] \n"
     ]
    },
    {
     "name": "stdout",
     "output_type": "stream",
     "text": [
      "wrote daily data for 20230923\n",
      "20230921\n"
     ]
    },
    {
     "name": "stderr",
     "output_type": "stream",
     "text": [
      "/home/canyon/.local/share/virtualenvs/TOP-Sprint-lAvM2-mU/lib/python3.9/site-packages/shapely/linear.py:88: RuntimeWarning: invalid value encountered in line_locate_point\n",
      "  return lib.line_locate_point(line, other)\n"
     ]
    },
    {
     "name": "stdout",
     "output_type": "stream",
     "text": [
      "Processing 15950 trips...\n"
     ]
    },
    {
     "name": "stderr",
     "output_type": "stream",
     "text": [
      " 17%|█▋        | 2766/15950 [01:37<07:48, 28.15it/s]"
     ]
    }
   ],
   "source": [
    "for day in days:\n",
    "    daily_data = []\n",
    "    print(day)\n",
    "    for feed in feeds:\n",
    "        segment_df = GTFS_shape_processor(feed, 4326, 2263).process_shapes()\n",
    "        GTFS_dict = parse_zipped_gtfs(feed)\n",
    "        speeds = BusSpeedCalculator(GTFS_rt_df.query(\"`vehicle.trip.start_date` == @day\"), GTFS_dict, segment_df).create_trip_speeds()\n",
    "        daily_data.append(speeds)\n",
    "\n",
    "    pd.concat(daily_data).to_parquet(f\"/home/data/bus-weather/daily_files/bus_speeds_nyc_{day}.parquet\")\n",
    "    print(f\"wrote daily data for {day}\")"
   ]
  },
  {
   "cell_type": "code",
   "execution_count": 27,
   "metadata": {},
   "outputs": [
    {
     "data": {
      "text/html": [
       "<div>\n",
       "<style scoped>\n",
       "    .dataframe tbody tr th:only-of-type {\n",
       "        vertical-align: middle;\n",
       "    }\n",
       "\n",
       "    .dataframe tbody tr th {\n",
       "        vertical-align: top;\n",
       "    }\n",
       "\n",
       "    .dataframe thead th {\n",
       "        text-align: right;\n",
       "    }\n",
       "</style>\n",
       "<table border=\"1\" class=\"dataframe\">\n",
       "  <thead>\n",
       "    <tr style=\"text-align: right;\">\n",
       "      <th></th>\n",
       "      <th>trip_id</th>\n",
       "      <th>shape_id</th>\n",
       "      <th>stop_sequence</th>\n",
       "      <th>stop_id</th>\n",
       "      <th>stop_name</th>\n",
       "      <th>prev_stop_id</th>\n",
       "      <th>prev_stop_name</th>\n",
       "      <th>projected_position</th>\n",
       "      <th>prev_projected_position</th>\n",
       "      <th>segment_length</th>\n",
       "      <th>geometry</th>\n",
       "    </tr>\n",
       "  </thead>\n",
       "  <tbody>\n",
       "    <tr>\n",
       "      <th>1</th>\n",
       "      <td>GH_O3-Weekday-033300_BX238_608</td>\n",
       "      <td>BX260294</td>\n",
       "      <td>2</td>\n",
       "      <td>101735</td>\n",
       "      <td>HUNTER AV/EARHART LA</td>\n",
       "      <td>101734</td>\n",
       "      <td>EARHART LA/ERSKINE PL</td>\n",
       "      <td>816.463666</td>\n",
       "      <td>0.000000</td>\n",
       "      <td>816.463666</td>\n",
       "      <td>LINESTRING (1033303.862 253041.183, 1033184.91...</td>\n",
       "    </tr>\n",
       "    <tr>\n",
       "      <th>2</th>\n",
       "      <td>GH_O3-Weekday-033300_BX238_608</td>\n",
       "      <td>BX260294</td>\n",
       "      <td>3</td>\n",
       "      <td>104619</td>\n",
       "      <td>HUTCHINSON RIVER PKY/BOLLER AV</td>\n",
       "      <td>101735</td>\n",
       "      <td>HUNTER AV/EARHART LA</td>\n",
       "      <td>1462.008700</td>\n",
       "      <td>816.463666</td>\n",
       "      <td>645.545034</td>\n",
       "      <td>LINESTRING (1032785.695 253354.200, 1032775.43...</td>\n",
       "    </tr>\n",
       "    <tr>\n",
       "      <th>3</th>\n",
       "      <td>GH_O3-Weekday-033300_BX238_608</td>\n",
       "      <td>BX260294</td>\n",
       "      <td>4</td>\n",
       "      <td>101737</td>\n",
       "      <td>HUTCHINSON RVR PY E/EINSTEIN LOOP S</td>\n",
       "      <td>104619</td>\n",
       "      <td>HUTCHINSON RIVER PKY/BOLLER AV</td>\n",
       "      <td>2340.685220</td>\n",
       "      <td>1462.008700</td>\n",
       "      <td>878.676520</td>\n",
       "      <td>LINESTRING (1032445.896 253763.968, 1032864.68...</td>\n",
       "    </tr>\n",
       "    <tr>\n",
       "      <th>4</th>\n",
       "      <td>GH_O3-Weekday-033300_BX238_608</td>\n",
       "      <td>BX260294</td>\n",
       "      <td>5</td>\n",
       "      <td>101738</td>\n",
       "      <td>HUTCHINSON RVR PY E/EINSTEIN LOOP N</td>\n",
       "      <td>101737</td>\n",
       "      <td>HUTCHINSON RVR PY E/EINSTEIN LOOP S</td>\n",
       "      <td>2785.473096</td>\n",
       "      <td>2340.685220</td>\n",
       "      <td>444.787876</td>\n",
       "      <td>LINESTRING (1032939.998 254490.559, 1033090.81...</td>\n",
       "    </tr>\n",
       "    <tr>\n",
       "      <th>5</th>\n",
       "      <td>GH_O3-Weekday-033300_BX238_608</td>\n",
       "      <td>BX260294</td>\n",
       "      <td>6</td>\n",
       "      <td>103538</td>\n",
       "      <td>BARTOW AV/REAR OF PATHMARK</td>\n",
       "      <td>101738</td>\n",
       "      <td>HUTCHINSON RVR PY E/EINSTEIN LOOP N</td>\n",
       "      <td>4872.982802</td>\n",
       "      <td>2785.473096</td>\n",
       "      <td>2087.509706</td>\n",
       "      <td>LINESTRING (1033197.030 254852.467, 1033214.96...</td>\n",
       "    </tr>\n",
       "    <tr>\n",
       "      <th>...</th>\n",
       "      <td>...</td>\n",
       "      <td>...</td>\n",
       "      <td>...</td>\n",
       "      <td>...</td>\n",
       "      <td>...</td>\n",
       "      <td>...</td>\n",
       "      <td>...</td>\n",
       "      <td>...</td>\n",
       "      <td>...</td>\n",
       "      <td>...</td>\n",
       "      <td>...</td>\n",
       "    </tr>\n",
       "    <tr>\n",
       "      <th>5618</th>\n",
       "      <td>WF_D3-Weekday-SDon-088500_BX11_209</td>\n",
       "      <td>BX110130</td>\n",
       "      <td>8</td>\n",
       "      <td>104569</td>\n",
       "      <td>EDWARD L GRANT HY/UNIVERSITY AV</td>\n",
       "      <td>102330</td>\n",
       "      <td>EDWARD L GRANT HY/JESUP AV</td>\n",
       "      <td>6825.604029</td>\n",
       "      <td>5654.848872</td>\n",
       "      <td>1170.755158</td>\n",
       "      <td>LINESTRING (1005888.442 245651.591, 1005888.35...</td>\n",
       "    </tr>\n",
       "    <tr>\n",
       "      <th>5619</th>\n",
       "      <td>WF_D3-Weekday-SDon-088500_BX11_209</td>\n",
       "      <td>BX110130</td>\n",
       "      <td>9</td>\n",
       "      <td>403652</td>\n",
       "      <td>W 181 ST/AMSTERDAM AV</td>\n",
       "      <td>104569</td>\n",
       "      <td>EDWARD L GRANT HY/UNIVERSITY AV</td>\n",
       "      <td>9942.009204</td>\n",
       "      <td>6825.604029</td>\n",
       "      <td>3116.405175</td>\n",
       "      <td>LINESTRING (1005601.250 246766.266, 1005601.27...</td>\n",
       "    </tr>\n",
       "    <tr>\n",
       "      <th>5620</th>\n",
       "      <td>WF_D3-Weekday-SDon-088500_BX11_209</td>\n",
       "      <td>BX110130</td>\n",
       "      <td>10</td>\n",
       "      <td>403653</td>\n",
       "      <td>W 181 ST/ST NICHOLAS AV</td>\n",
       "      <td>403652</td>\n",
       "      <td>W 181 ST/AMSTERDAM AV</td>\n",
       "      <td>10739.852070</td>\n",
       "      <td>9942.009204</td>\n",
       "      <td>797.842866</td>\n",
       "      <td>LINESTRING (1003328.063 248299.897, 1003301.38...</td>\n",
       "    </tr>\n",
       "    <tr>\n",
       "      <th>5621</th>\n",
       "      <td>WF_D3-Weekday-SDon-088500_BX11_209</td>\n",
       "      <td>BX110130</td>\n",
       "      <td>11</td>\n",
       "      <td>404324</td>\n",
       "      <td>WADSWORTH AV/W 181 ST</td>\n",
       "      <td>403653</td>\n",
       "      <td>W 181 ST/ST NICHOLAS AV</td>\n",
       "      <td>11235.766432</td>\n",
       "      <td>10739.852070</td>\n",
       "      <td>495.914362</td>\n",
       "      <td>LINESTRING (1002629.964 248686.161, 1002629.91...</td>\n",
       "    </tr>\n",
       "    <tr>\n",
       "      <th>5622</th>\n",
       "      <td>WF_D3-Weekday-SDon-088500_BX11_209</td>\n",
       "      <td>BX110130</td>\n",
       "      <td>12</td>\n",
       "      <td>403670</td>\n",
       "      <td>W 179 ST/BROADWAY</td>\n",
       "      <td>404324</td>\n",
       "      <td>WADSWORTH AV/W 181 ST</td>\n",
       "      <td>12352.968489</td>\n",
       "      <td>11235.766432</td>\n",
       "      <td>1117.202057</td>\n",
       "      <td>LINESTRING (1002216.830 248855.113, 1002216.73...</td>\n",
       "    </tr>\n",
       "  </tbody>\n",
       "</table>\n",
       "<p>5387 rows × 11 columns</p>\n",
       "</div>"
      ],
      "text/plain": [
       "                                 trip_id  shape_id  stop_sequence  stop_id  \\\n",
       "1         GH_O3-Weekday-033300_BX238_608  BX260294              2   101735   \n",
       "2         GH_O3-Weekday-033300_BX238_608  BX260294              3   104619   \n",
       "3         GH_O3-Weekday-033300_BX238_608  BX260294              4   101737   \n",
       "4         GH_O3-Weekday-033300_BX238_608  BX260294              5   101738   \n",
       "5         GH_O3-Weekday-033300_BX238_608  BX260294              6   103538   \n",
       "...                                  ...       ...            ...      ...   \n",
       "5618  WF_D3-Weekday-SDon-088500_BX11_209  BX110130              8   104569   \n",
       "5619  WF_D3-Weekday-SDon-088500_BX11_209  BX110130              9   403652   \n",
       "5620  WF_D3-Weekday-SDon-088500_BX11_209  BX110130             10   403653   \n",
       "5621  WF_D3-Weekday-SDon-088500_BX11_209  BX110130             11   404324   \n",
       "5622  WF_D3-Weekday-SDon-088500_BX11_209  BX110130             12   403670   \n",
       "\n",
       "                                stop_name  prev_stop_id  \\\n",
       "1                    HUNTER AV/EARHART LA        101734   \n",
       "2          HUTCHINSON RIVER PKY/BOLLER AV        101735   \n",
       "3     HUTCHINSON RVR PY E/EINSTEIN LOOP S        104619   \n",
       "4     HUTCHINSON RVR PY E/EINSTEIN LOOP N        101737   \n",
       "5              BARTOW AV/REAR OF PATHMARK        101738   \n",
       "...                                   ...           ...   \n",
       "5618      EDWARD L GRANT HY/UNIVERSITY AV        102330   \n",
       "5619                W 181 ST/AMSTERDAM AV        104569   \n",
       "5620              W 181 ST/ST NICHOLAS AV        403652   \n",
       "5621                WADSWORTH AV/W 181 ST        403653   \n",
       "5622                    W 179 ST/BROADWAY        404324   \n",
       "\n",
       "                           prev_stop_name  projected_position  \\\n",
       "1                   EARHART LA/ERSKINE PL          816.463666   \n",
       "2                    HUNTER AV/EARHART LA         1462.008700   \n",
       "3          HUTCHINSON RIVER PKY/BOLLER AV         2340.685220   \n",
       "4     HUTCHINSON RVR PY E/EINSTEIN LOOP S         2785.473096   \n",
       "5     HUTCHINSON RVR PY E/EINSTEIN LOOP N         4872.982802   \n",
       "...                                   ...                 ...   \n",
       "5618           EDWARD L GRANT HY/JESUP AV         6825.604029   \n",
       "5619      EDWARD L GRANT HY/UNIVERSITY AV         9942.009204   \n",
       "5620                W 181 ST/AMSTERDAM AV        10739.852070   \n",
       "5621              W 181 ST/ST NICHOLAS AV        11235.766432   \n",
       "5622                WADSWORTH AV/W 181 ST        12352.968489   \n",
       "\n",
       "      prev_projected_position  segment_length  \\\n",
       "1                    0.000000      816.463666   \n",
       "2                  816.463666      645.545034   \n",
       "3                 1462.008700      878.676520   \n",
       "4                 2340.685220      444.787876   \n",
       "5                 2785.473096     2087.509706   \n",
       "...                       ...             ...   \n",
       "5618              5654.848872     1170.755158   \n",
       "5619              6825.604029     3116.405175   \n",
       "5620              9942.009204      797.842866   \n",
       "5621             10739.852070      495.914362   \n",
       "5622             11235.766432     1117.202057   \n",
       "\n",
       "                                               geometry  \n",
       "1     LINESTRING (1033303.862 253041.183, 1033184.91...  \n",
       "2     LINESTRING (1032785.695 253354.200, 1032775.43...  \n",
       "3     LINESTRING (1032445.896 253763.968, 1032864.68...  \n",
       "4     LINESTRING (1032939.998 254490.559, 1033090.81...  \n",
       "5     LINESTRING (1033197.030 254852.467, 1033214.96...  \n",
       "...                                                 ...  \n",
       "5618  LINESTRING (1005888.442 245651.591, 1005888.35...  \n",
       "5619  LINESTRING (1005601.250 246766.266, 1005601.27...  \n",
       "5620  LINESTRING (1003328.063 248299.897, 1003301.38...  \n",
       "5621  LINESTRING (1002629.964 248686.161, 1002629.91...  \n",
       "5622  LINESTRING (1002216.830 248855.113, 1002216.73...  \n",
       "\n",
       "[5387 rows x 11 columns]"
      ]
     },
     "execution_count": 27,
     "metadata": {},
     "output_type": "execute_result"
    }
   ],
   "source": [
    "segment_dfs[1]"
   ]
  },
  {
   "cell_type": "code",
   "execution_count": 31,
   "metadata": {},
   "outputs": [
    {
     "data": {
      "text/html": [
       "<div>\n",
       "<style scoped>\n",
       "    .dataframe tbody tr th:only-of-type {\n",
       "        vertical-align: middle;\n",
       "    }\n",
       "\n",
       "    .dataframe tbody tr th {\n",
       "        vertical-align: top;\n",
       "    }\n",
       "\n",
       "    .dataframe thead th {\n",
       "        text-align: right;\n",
       "    }\n",
       "</style>\n",
       "<table border=\"1\" class=\"dataframe\">\n",
       "  <thead>\n",
       "    <tr style=\"text-align: right;\">\n",
       "      <th></th>\n",
       "      <th>id</th>\n",
       "      <th>vehicle.trip.trip_id</th>\n",
       "      <th>vehicle.trip.start_date</th>\n",
       "      <th>vehicle.trip.route_id</th>\n",
       "      <th>vehicle.trip.direction_id</th>\n",
       "      <th>vehicle.position.latitude</th>\n",
       "      <th>vehicle.position.longitude</th>\n",
       "      <th>vehicle.position.bearing</th>\n",
       "      <th>vehicle.timestamp</th>\n",
       "      <th>vehicle.stop_id</th>\n",
       "      <th>vehicle.vehicle.id</th>\n",
       "      <th>trip_id</th>\n",
       "      <th>shape_id</th>\n",
       "      <th>stop_sequence</th>\n",
       "      <th>stop_id</th>\n",
       "      <th>stop_name</th>\n",
       "      <th>prev_stop_id</th>\n",
       "      <th>prev_stop_name</th>\n",
       "      <th>projected_position</th>\n",
       "      <th>prev_projected_position</th>\n",
       "      <th>segment_length</th>\n",
       "      <th>geometry</th>\n",
       "    </tr>\n",
       "  </thead>\n",
       "  <tbody>\n",
       "    <tr>\n",
       "      <th>0</th>\n",
       "      <td>MTA NYCT_4479</td>\n",
       "      <td>EN_D3-Saturday-053100_Q56_453</td>\n",
       "      <td>20230916</td>\n",
       "      <td>Q24</td>\n",
       "      <td>0.000000</td>\n",
       "      <td>40.702282</td>\n",
       "      <td>-73.800613</td>\n",
       "      <td>15.321510</td>\n",
       "      <td>2023-09-16 13:45:07</td>\n",
       "      <td>552409</td>\n",
       "      <td>MTA NYCT_4479</td>\n",
       "      <td>EN_D3-Saturday-053100_Q56_453</td>\n",
       "      <td>Q240034</td>\n",
       "      <td>2</td>\n",
       "      <td>304524</td>\n",
       "      <td>JAMAICA AV/GEORGIA AV</td>\n",
       "      <td>307899</td>\n",
       "      <td>VAN SINDEREN AV/FULTON ST</td>\n",
       "      <td>1630.391077</td>\n",
       "      <td>0.298547</td>\n",
       "      <td>1630.092530</td>\n",
       "      <td>LINESTRING (1011037.955 186454.674, 1011055.46...</td>\n",
       "    </tr>\n",
       "    <tr>\n",
       "      <th>1</th>\n",
       "      <td>MTA NYCT_4479</td>\n",
       "      <td>EN_D3-Saturday-053100_Q56_453</td>\n",
       "      <td>20230916</td>\n",
       "      <td>Q24</td>\n",
       "      <td>0.000000</td>\n",
       "      <td>40.702282</td>\n",
       "      <td>-73.800613</td>\n",
       "      <td>15.321510</td>\n",
       "      <td>2023-09-16 13:45:07</td>\n",
       "      <td>552409</td>\n",
       "      <td>MTA NYCT_4479</td>\n",
       "      <td>EN_D3-Saturday-053100_Q56_453</td>\n",
       "      <td>Q240034</td>\n",
       "      <td>3</td>\n",
       "      <td>302073</td>\n",
       "      <td>ATLANTIC AV/NEW JERSEY AV</td>\n",
       "      <td>304524</td>\n",
       "      <td>JAMAICA AV/GEORGIA AV</td>\n",
       "      <td>3336.762993</td>\n",
       "      <td>1630.391077</td>\n",
       "      <td>1706.371916</td>\n",
       "      <td>LINESTRING (1012210.892 186014.019, 1012231.91...</td>\n",
       "    </tr>\n",
       "    <tr>\n",
       "      <th>2</th>\n",
       "      <td>MTA NYCT_4479</td>\n",
       "      <td>EN_D3-Saturday-053100_Q56_453</td>\n",
       "      <td>20230916</td>\n",
       "      <td>Q24</td>\n",
       "      <td>0.000000</td>\n",
       "      <td>40.702282</td>\n",
       "      <td>-73.800613</td>\n",
       "      <td>15.321510</td>\n",
       "      <td>2023-09-16 13:45:07</td>\n",
       "      <td>552409</td>\n",
       "      <td>MTA NYCT_4479</td>\n",
       "      <td>EN_D3-Saturday-053100_Q56_453</td>\n",
       "      <td>Q240034</td>\n",
       "      <td>4</td>\n",
       "      <td>302074</td>\n",
       "      <td>ATLANTIC AV/VERMONT ST</td>\n",
       "      <td>302073</td>\n",
       "      <td>ATLANTIC AV/NEW JERSEY AV</td>\n",
       "      <td>3755.746047</td>\n",
       "      <td>3336.762993</td>\n",
       "      <td>418.983054</td>\n",
       "      <td>LINESTRING (1013098.088 185482.729, 1013098.24...</td>\n",
       "    </tr>\n",
       "    <tr>\n",
       "      <th>3</th>\n",
       "      <td>MTA NYCT_4479</td>\n",
       "      <td>EN_D3-Saturday-053100_Q56_453</td>\n",
       "      <td>20230916</td>\n",
       "      <td>Q24</td>\n",
       "      <td>0.000000</td>\n",
       "      <td>40.702282</td>\n",
       "      <td>-73.800613</td>\n",
       "      <td>15.321510</td>\n",
       "      <td>2023-09-16 13:45:07</td>\n",
       "      <td>552409</td>\n",
       "      <td>MTA NYCT_4479</td>\n",
       "      <td>EN_D3-Saturday-053100_Q56_453</td>\n",
       "      <td>Q240034</td>\n",
       "      <td>5</td>\n",
       "      <td>302075</td>\n",
       "      <td>ATLANTIC AV/BRADFORD ST</td>\n",
       "      <td>302074</td>\n",
       "      <td>ATLANTIC AV/VERMONT ST</td>\n",
       "      <td>4272.444057</td>\n",
       "      <td>3755.746047</td>\n",
       "      <td>516.698010</td>\n",
       "      <td>LINESTRING (1013513.423 185537.891, 1014022.30...</td>\n",
       "    </tr>\n",
       "    <tr>\n",
       "      <th>4</th>\n",
       "      <td>MTA NYCT_4479</td>\n",
       "      <td>EN_D3-Saturday-053100_Q56_453</td>\n",
       "      <td>20230916</td>\n",
       "      <td>Q24</td>\n",
       "      <td>0.000000</td>\n",
       "      <td>40.702282</td>\n",
       "      <td>-73.800613</td>\n",
       "      <td>15.321510</td>\n",
       "      <td>2023-09-16 13:45:07</td>\n",
       "      <td>552409</td>\n",
       "      <td>MTA NYCT_4479</td>\n",
       "      <td>EN_D3-Saturday-053100_Q56_453</td>\n",
       "      <td>Q240034</td>\n",
       "      <td>6</td>\n",
       "      <td>302076</td>\n",
       "      <td>ATLANTIC AV/VAN SICLEN AV</td>\n",
       "      <td>302075</td>\n",
       "      <td>ATLANTIC AV/BRADFORD ST</td>\n",
       "      <td>4743.910026</td>\n",
       "      <td>4272.444057</td>\n",
       "      <td>471.465969</td>\n",
       "      <td>LINESTRING (1014022.308 185627.406, 1014482.91...</td>\n",
       "    </tr>\n",
       "    <tr>\n",
       "      <th>...</th>\n",
       "      <td>...</td>\n",
       "      <td>...</td>\n",
       "      <td>...</td>\n",
       "      <td>...</td>\n",
       "      <td>...</td>\n",
       "      <td>...</td>\n",
       "      <td>...</td>\n",
       "      <td>...</td>\n",
       "      <td>...</td>\n",
       "      <td>...</td>\n",
       "      <td>...</td>\n",
       "      <td>...</td>\n",
       "      <td>...</td>\n",
       "      <td>...</td>\n",
       "      <td>...</td>\n",
       "      <td>...</td>\n",
       "      <td>...</td>\n",
       "      <td>...</td>\n",
       "      <td>...</td>\n",
       "      <td>...</td>\n",
       "      <td>...</td>\n",
       "      <td>...</td>\n",
       "    </tr>\n",
       "    <tr>\n",
       "      <th>144967</th>\n",
       "      <td>MTA NYCT_7287</td>\n",
       "      <td>FP_D3-Saturday-043200_Q58_826</td>\n",
       "      <td>20230916</td>\n",
       "      <td>Q58</td>\n",
       "      <td>0.000000</td>\n",
       "      <td>40.710026</td>\n",
       "      <td>-73.899170</td>\n",
       "      <td>126.444443</td>\n",
       "      <td>2023-09-16 11:24:26</td>\n",
       "      <td>505251</td>\n",
       "      <td>MTA NYCT_7287</td>\n",
       "      <td>FP_D3-Saturday-043200_Q58_826</td>\n",
       "      <td>Q580537</td>\n",
       "      <td>13</td>\n",
       "      <td>503489</td>\n",
       "      <td>108 ST/53 AV</td>\n",
       "      <td>503483</td>\n",
       "      <td>CORONA AV/JUNCTION BL</td>\n",
       "      <td>29766.790097</td>\n",
       "      <td>25163.106559</td>\n",
       "      <td>4603.683537</td>\n",
       "      <td>LINESTRING (1020919.493 209669.889, 1020980.64...</td>\n",
       "    </tr>\n",
       "    <tr>\n",
       "      <th>144968</th>\n",
       "      <td>MTA NYCT_7287</td>\n",
       "      <td>FP_D3-Saturday-043200_Q58_826</td>\n",
       "      <td>20230916</td>\n",
       "      <td>Q58</td>\n",
       "      <td>0.000000</td>\n",
       "      <td>40.710026</td>\n",
       "      <td>-73.899170</td>\n",
       "      <td>126.444443</td>\n",
       "      <td>2023-09-16 11:24:26</td>\n",
       "      <td>505251</td>\n",
       "      <td>MTA NYCT_7287</td>\n",
       "      <td>FP_D3-Saturday-043200_Q58_826</td>\n",
       "      <td>Q580537</td>\n",
       "      <td>14</td>\n",
       "      <td>503492</td>\n",
       "      <td>108 ST/HORACE HARDING EXPWY</td>\n",
       "      <td>503489</td>\n",
       "      <td>108 ST/53 AV</td>\n",
       "      <td>31568.162070</td>\n",
       "      <td>29766.790097</td>\n",
       "      <td>1801.371973</td>\n",
       "      <td>LINESTRING (1024575.820 209783.729, 1024575.89...</td>\n",
       "    </tr>\n",
       "    <tr>\n",
       "      <th>144969</th>\n",
       "      <td>MTA NYCT_7287</td>\n",
       "      <td>FP_D3-Saturday-043200_Q58_826</td>\n",
       "      <td>20230916</td>\n",
       "      <td>Q58</td>\n",
       "      <td>0.000000</td>\n",
       "      <td>40.710026</td>\n",
       "      <td>-73.899170</td>\n",
       "      <td>126.444443</td>\n",
       "      <td>2023-09-16 11:24:26</td>\n",
       "      <td>505251</td>\n",
       "      <td>MTA NYCT_7287</td>\n",
       "      <td>FP_D3-Saturday-043200_Q58_826</td>\n",
       "      <td>Q580537</td>\n",
       "      <td>15</td>\n",
       "      <td>503493</td>\n",
       "      <td>COLLEGE PT BL/58 RD</td>\n",
       "      <td>503492</td>\n",
       "      <td>108 ST/HORACE HARDING EXPWY</td>\n",
       "      <td>37934.499731</td>\n",
       "      <td>31568.162070</td>\n",
       "      <td>6366.337661</td>\n",
       "      <td>LINESTRING (1025232.531 208106.612, 1025245.21...</td>\n",
       "    </tr>\n",
       "    <tr>\n",
       "      <th>144970</th>\n",
       "      <td>MTA NYCT_7287</td>\n",
       "      <td>FP_D3-Saturday-043200_Q58_826</td>\n",
       "      <td>20230916</td>\n",
       "      <td>Q58</td>\n",
       "      <td>0.000000</td>\n",
       "      <td>40.710026</td>\n",
       "      <td>-73.899170</td>\n",
       "      <td>126.444443</td>\n",
       "      <td>2023-09-16 11:24:26</td>\n",
       "      <td>505251</td>\n",
       "      <td>MTA NYCT_7287</td>\n",
       "      <td>FP_D3-Saturday-043200_Q58_826</td>\n",
       "      <td>Q580537</td>\n",
       "      <td>16</td>\n",
       "      <td>503497</td>\n",
       "      <td>COLLEGE PT BL/MAPLE AV</td>\n",
       "      <td>503493</td>\n",
       "      <td>COLLEGE PT BL/58 RD</td>\n",
       "      <td>41225.450368</td>\n",
       "      <td>37934.499731</td>\n",
       "      <td>3290.950637</td>\n",
       "      <td>LINESTRING (1029906.780 211009.198, 1029978.20...</td>\n",
       "    </tr>\n",
       "    <tr>\n",
       "      <th>144971</th>\n",
       "      <td>MTA NYCT_7287</td>\n",
       "      <td>FP_D3-Saturday-043200_Q58_826</td>\n",
       "      <td>20230916</td>\n",
       "      <td>Q58</td>\n",
       "      <td>0.000000</td>\n",
       "      <td>40.710026</td>\n",
       "      <td>-73.899170</td>\n",
       "      <td>126.444443</td>\n",
       "      <td>2023-09-16 11:24:26</td>\n",
       "      <td>505251</td>\n",
       "      <td>MTA NYCT_7287</td>\n",
       "      <td>FP_D3-Saturday-043200_Q58_826</td>\n",
       "      <td>Q580537</td>\n",
       "      <td>17</td>\n",
       "      <td>804059</td>\n",
       "      <td>41 RD/MAIN ST</td>\n",
       "      <td>503497</td>\n",
       "      <td>COLLEGE PT BL/MAPLE AV</td>\n",
       "      <td>43093.509126</td>\n",
       "      <td>41225.450368</td>\n",
       "      <td>1868.058759</td>\n",
       "      <td>LINESTRING (1030541.306 214031.168, 1030484.94...</td>\n",
       "    </tr>\n",
       "  </tbody>\n",
       "</table>\n",
       "<p>144972 rows × 22 columns</p>\n",
       "</div>"
      ],
      "text/plain": [
       "                   id           vehicle.trip.trip_id vehicle.trip.start_date  \\\n",
       "0       MTA NYCT_4479  EN_D3-Saturday-053100_Q56_453                20230916   \n",
       "1       MTA NYCT_4479  EN_D3-Saturday-053100_Q56_453                20230916   \n",
       "2       MTA NYCT_4479  EN_D3-Saturday-053100_Q56_453                20230916   \n",
       "3       MTA NYCT_4479  EN_D3-Saturday-053100_Q56_453                20230916   \n",
       "4       MTA NYCT_4479  EN_D3-Saturday-053100_Q56_453                20230916   \n",
       "...               ...                            ...                     ...   \n",
       "144967  MTA NYCT_7287  FP_D3-Saturday-043200_Q58_826                20230916   \n",
       "144968  MTA NYCT_7287  FP_D3-Saturday-043200_Q58_826                20230916   \n",
       "144969  MTA NYCT_7287  FP_D3-Saturday-043200_Q58_826                20230916   \n",
       "144970  MTA NYCT_7287  FP_D3-Saturday-043200_Q58_826                20230916   \n",
       "144971  MTA NYCT_7287  FP_D3-Saturday-043200_Q58_826                20230916   \n",
       "\n",
       "       vehicle.trip.route_id  vehicle.trip.direction_id  \\\n",
       "0                        Q24                   0.000000   \n",
       "1                        Q24                   0.000000   \n",
       "2                        Q24                   0.000000   \n",
       "3                        Q24                   0.000000   \n",
       "4                        Q24                   0.000000   \n",
       "...                      ...                        ...   \n",
       "144967                   Q58                   0.000000   \n",
       "144968                   Q58                   0.000000   \n",
       "144969                   Q58                   0.000000   \n",
       "144970                   Q58                   0.000000   \n",
       "144971                   Q58                   0.000000   \n",
       "\n",
       "        vehicle.position.latitude  vehicle.position.longitude  \\\n",
       "0                       40.702282                  -73.800613   \n",
       "1                       40.702282                  -73.800613   \n",
       "2                       40.702282                  -73.800613   \n",
       "3                       40.702282                  -73.800613   \n",
       "4                       40.702282                  -73.800613   \n",
       "...                           ...                         ...   \n",
       "144967                  40.710026                  -73.899170   \n",
       "144968                  40.710026                  -73.899170   \n",
       "144969                  40.710026                  -73.899170   \n",
       "144970                  40.710026                  -73.899170   \n",
       "144971                  40.710026                  -73.899170   \n",
       "\n",
       "        vehicle.position.bearing   vehicle.timestamp vehicle.stop_id  \\\n",
       "0                      15.321510 2023-09-16 13:45:07          552409   \n",
       "1                      15.321510 2023-09-16 13:45:07          552409   \n",
       "2                      15.321510 2023-09-16 13:45:07          552409   \n",
       "3                      15.321510 2023-09-16 13:45:07          552409   \n",
       "4                      15.321510 2023-09-16 13:45:07          552409   \n",
       "...                          ...                 ...             ...   \n",
       "144967                126.444443 2023-09-16 11:24:26          505251   \n",
       "144968                126.444443 2023-09-16 11:24:26          505251   \n",
       "144969                126.444443 2023-09-16 11:24:26          505251   \n",
       "144970                126.444443 2023-09-16 11:24:26          505251   \n",
       "144971                126.444443 2023-09-16 11:24:26          505251   \n",
       "\n",
       "       vehicle.vehicle.id                        trip_id shape_id  \\\n",
       "0           MTA NYCT_4479  EN_D3-Saturday-053100_Q56_453  Q240034   \n",
       "1           MTA NYCT_4479  EN_D3-Saturday-053100_Q56_453  Q240034   \n",
       "2           MTA NYCT_4479  EN_D3-Saturday-053100_Q56_453  Q240034   \n",
       "3           MTA NYCT_4479  EN_D3-Saturday-053100_Q56_453  Q240034   \n",
       "4           MTA NYCT_4479  EN_D3-Saturday-053100_Q56_453  Q240034   \n",
       "...                   ...                            ...      ...   \n",
       "144967      MTA NYCT_7287  FP_D3-Saturday-043200_Q58_826  Q580537   \n",
       "144968      MTA NYCT_7287  FP_D3-Saturday-043200_Q58_826  Q580537   \n",
       "144969      MTA NYCT_7287  FP_D3-Saturday-043200_Q58_826  Q580537   \n",
       "144970      MTA NYCT_7287  FP_D3-Saturday-043200_Q58_826  Q580537   \n",
       "144971      MTA NYCT_7287  FP_D3-Saturday-043200_Q58_826  Q580537   \n",
       "\n",
       "        stop_sequence  stop_id                    stop_name  prev_stop_id  \\\n",
       "0                   2   304524        JAMAICA AV/GEORGIA AV        307899   \n",
       "1                   3   302073    ATLANTIC AV/NEW JERSEY AV        304524   \n",
       "2                   4   302074       ATLANTIC AV/VERMONT ST        302073   \n",
       "3                   5   302075      ATLANTIC AV/BRADFORD ST        302074   \n",
       "4                   6   302076    ATLANTIC AV/VAN SICLEN AV        302075   \n",
       "...               ...      ...                          ...           ...   \n",
       "144967             13   503489                 108 ST/53 AV        503483   \n",
       "144968             14   503492  108 ST/HORACE HARDING EXPWY        503489   \n",
       "144969             15   503493          COLLEGE PT BL/58 RD        503492   \n",
       "144970             16   503497       COLLEGE PT BL/MAPLE AV        503493   \n",
       "144971             17   804059                41 RD/MAIN ST        503497   \n",
       "\n",
       "                     prev_stop_name  projected_position  \\\n",
       "0         VAN SINDEREN AV/FULTON ST         1630.391077   \n",
       "1             JAMAICA AV/GEORGIA AV         3336.762993   \n",
       "2         ATLANTIC AV/NEW JERSEY AV         3755.746047   \n",
       "3            ATLANTIC AV/VERMONT ST         4272.444057   \n",
       "4           ATLANTIC AV/BRADFORD ST         4743.910026   \n",
       "...                             ...                 ...   \n",
       "144967        CORONA AV/JUNCTION BL        29766.790097   \n",
       "144968                 108 ST/53 AV        31568.162070   \n",
       "144969  108 ST/HORACE HARDING EXPWY        37934.499731   \n",
       "144970          COLLEGE PT BL/58 RD        41225.450368   \n",
       "144971       COLLEGE PT BL/MAPLE AV        43093.509126   \n",
       "\n",
       "        prev_projected_position  segment_length  \\\n",
       "0                      0.298547     1630.092530   \n",
       "1                   1630.391077     1706.371916   \n",
       "2                   3336.762993      418.983054   \n",
       "3                   3755.746047      516.698010   \n",
       "4                   4272.444057      471.465969   \n",
       "...                         ...             ...   \n",
       "144967             25163.106559     4603.683537   \n",
       "144968             29766.790097     1801.371973   \n",
       "144969             31568.162070     6366.337661   \n",
       "144970             37934.499731     3290.950637   \n",
       "144971             41225.450368     1868.058759   \n",
       "\n",
       "                                                 geometry  \n",
       "0       LINESTRING (1011037.955 186454.674, 1011055.46...  \n",
       "1       LINESTRING (1012210.892 186014.019, 1012231.91...  \n",
       "2       LINESTRING (1013098.088 185482.729, 1013098.24...  \n",
       "3       LINESTRING (1013513.423 185537.891, 1014022.30...  \n",
       "4       LINESTRING (1014022.308 185627.406, 1014482.91...  \n",
       "...                                                   ...  \n",
       "144967  LINESTRING (1020919.493 209669.889, 1020980.64...  \n",
       "144968  LINESTRING (1024575.820 209783.729, 1024575.89...  \n",
       "144969  LINESTRING (1025232.531 208106.612, 1025245.21...  \n",
       "144970  LINESTRING (1029906.780 211009.198, 1029978.20...  \n",
       "144971  LINESTRING (1030541.306 214031.168, 1030484.94...  \n",
       "\n",
       "[144972 rows x 22 columns]"
      ]
     },
     "execution_count": 31,
     "metadata": {},
     "output_type": "execute_result"
    }
   ],
   "source": [
    "GTFS_rt_df.query(\"`vehicle.trip.start_date` == '20230916'\").merge(segment_dfs[0], left_on = \"vehicle.trip.trip_id\", right_on = \"trip_id\")"
   ]
  },
  {
   "cell_type": "code",
   "execution_count": 33,
   "metadata": {},
   "outputs": [
    {
     "data": {
      "text/plain": [
       "0         37373478-FRPD3-FR_D3-Saturday-04MTABC_38142023...\n",
       "33        37380776-JKPD3-JK_D3-Saturday-04MTABC_38102023...\n",
       "66        37373401-FRPD3-FR_D3-Saturday-04MTABC_38132023...\n",
       "103       37373367-FRPD3-FR_D3-Saturday-04MTABC_38092023...\n",
       "141       37380389-JKPD3-JK_D3-Saturday-04MTABC_43582023...\n",
       "                                ...                        \n",
       "156879    37381490-JKPD3-JK_D3-Saturday-04MTABC_46352023...\n",
       "156897    37380123-JKPD3-JK_D3-Saturday-04MTABC_46412023...\n",
       "156906    37615059-SCPD3-SC_D3-Saturday-04MTABC_50420230916\n",
       "156907    37614844-SCPD3-SC_D3-Saturday-04MTABC_57320230916\n",
       "156935    37380222-JKPD3-JK_D3-Saturday-04MTABC_46412023...\n",
       "Name: unique_trip_id, Length: 5089, dtype: object"
      ]
     },
     "execution_count": 33,
     "metadata": {},
     "output_type": "execute_result"
    }
   ],
   "source": [
    "pd.read_parquet(\"/home/data/bus-weather/daily_files/bus_speeds_nyc_20230916.parquet\").unique_trip_id.drop_duplicates()"
   ]
  },
  {
   "cell_type": "code",
   "execution_count": null,
   "metadata": {},
   "outputs": [],
   "source": []
  }
 ],
 "metadata": {
  "kernelspec": {
   "display_name": "bus-weather-impacts-4L8zOfl3-py3.10",
   "language": "python",
   "name": "python3"
  },
  "language_info": {
   "codemirror_mode": {
    "name": "ipython",
    "version": 3
   },
   "file_extension": ".py",
   "mimetype": "text/x-python",
   "name": "python",
   "nbconvert_exporter": "python",
   "pygments_lexer": "ipython3",
   "version": "3.9.18"
  }
 },
 "nbformat": 4,
 "nbformat_minor": 2
}
