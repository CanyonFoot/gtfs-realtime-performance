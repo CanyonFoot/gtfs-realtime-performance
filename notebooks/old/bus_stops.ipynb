{
 "cells": [
  {
   "cell_type": "code",
   "execution_count": 1,
   "metadata": {},
   "outputs": [],
   "source": [
    "import os \n",
    "os.chdir(\"/home/canyon/Bus-Weather-Impacts\")\n",
    "from src.utils import *\n",
    "from src.bus_functions import *\n",
    "import pandas as pd\n",
    "import os\n",
    "import osmnx as ox\n",
    "import numpy as np\n",
    "import geopandas as gpd\n",
    "import networkx as nx\n",
    "from sklearn.neighbors import KDTree\n",
    "import numpy as np\n",
    "pd.options.mode.chained_assignment = None\n",
    "pd.set_option('display.float_format', '{:.02f}'.format)\n",
    "from geopy.distance import geodesic\n",
    "from shapely.geometry import Point\n",
    "calculated_pair_path = \"data/node_pairs.parquet\"\n",
    "pd.set_option('display.max_columns', None)\n",
    "from plotnine import *"
   ]
  },
  {
   "cell_type": "code",
   "execution_count": 9,
   "metadata": {},
   "outputs": [],
   "source": [
    "def get_bus_stops(path = \"/home/data/test/cities/C3562/stops.geojson\"):\n",
    "    bus_stops = gpd.read_file(path)\n",
    "    bus_agencies = [\"MTA NYCT\", \"MTABC\", \"MTA NYCT,MTABC\"]\n",
    "    bus_stops = bus_stops.query(\"agency_ids_serviced.isin(@bus_agencies)\")[[\"stop_id\", \"stop_name\", \"stop_lat\", \"stop_lon\", \"geometry\"]].rename({\"stop_lat\" : \"lat\", \"stop_lon\" : \"lon\"}, axis = 1)\n",
    "    bus_stops[\"stop_id\"] = [f\"MTA_{stop_id}\" for stop_id in bus_stops[\"stop_id\"]]\n",
    "    bus_stops = prep_coords(bus_stops, \"lat\", \"lon\")\n",
    "\n",
    "    return bus_stops\n",
    "\n",
    "def bus_stops_nodes(bus_stops, tree, nodes):\n",
    "    stops_with_nodes = tag_feed_with_nodes(bus_stops, tree, nodes)\n",
    "    stops_with_nodes[\"dist_to_node\"] = calculate_distance_to_node(stops_with_nodes)\n",
    "    stops_with_nodes = stops_with_nodes.query(\"dist_to_node < 200\")\n",
    "    stops_with_nodes = stops_with_nodes[[\"stop_id\", \"stop_name\", \"osmid\", \"dist_to_node\"]]\n",
    "\n",
    "    return stops_with_nodes\n",
    "\n",
    "def get_stop_pairs(bus_stops, raw_GTFS_path):\n",
    "    gtfs_rt = read_parquet_from_tar_gz(raw_GTFS_path)\n",
    "    gtfs_rt = gtfs_rt.merge(bus_stops, left_on=\"next_stop_id\", right_on = \"stop_id\", how = \"left\")\n",
    "    gtfs_rt = gtfs_rt[[\"trip_id\", \"route_long\", \"timestamp\", \"origin_id\", \"next_stop_id\"]].sort_values([\"trip_id\", \"timestamp\"]).drop_duplicates([\"trip_id\", \"origin_id\", \"next_stop_id\"]).dropna()\n",
    "    gtfs_rt[\"prev_stop_id\"] = gtfs_rt[\"next_stop_id\"].shift(1)\n",
    "    gtfs_rt.loc[gtfs_rt[\"prev_stop_id\"].isna(), 'prev_stop_id'] = gtfs_rt[\"origin_id\"]\n",
    "\n",
    "    stop_pairs = gtfs_rt[[\"prev_stop_id\", \"next_stop_id\"]]\n",
    "\n",
    "    stop_pairs = stop_pairs.merge(bus_stops[[\"stop_id\", \"stop_name\", \"osmid\"]], left_on = \"prev_stop_id\", right_on = \"stop_id\").merge(bus_stops[[\"stop_id\", \"stop_name\", \"osmid\"]], left_on = \"next_stop_id\", right_on = \"stop_id\", suffixes = [\"_prev\", \"_next\"]).rename({\"osmid_next\" : \"osmid\", \"osmid_prev\" : \"prev_osmid\"}, axis = 1)\n",
    "    stop_pairs[\"osmid\"] = stop_pairs[\"osmid\"].astype(int)\n",
    "    stop_pairs[\"prev_osmid\"] = stop_pairs[\"prev_osmid\"].astype(int)\n",
    "\n",
    "    return stop_pairs.drop_duplicates()\n",
    "\n",
    "def get_pair_paths(stop_pairs, G, nodes, calculated_pair_path = \"data/node_pairs.parquet\"):\n",
    "    precalculate_node_pair_distances(stop_pairs[[\"osmid\", \"prev_osmid\"]], calculated_pair_path=calculated_pair_path, G = G, nodes = nodes)\n",
    "    node_pair_dists = pd.read_parquet(calculated_pair_path)\n",
    "    stop_pairs = stop_pairs[[\"osmid\", \"prev_osmid\", \"next_stop_id\", \"prev_stop_id\", \"stop_name_prev\", \"stop_name_next\"]].merge(node_pair_dists)\n",
    "    \n",
    "    return stop_pairs\n",
    "\n",
    "def full_process_stops(tree, nodes, G, GTFS_PATH, calculated_pair_path = \"data/node_pairs.parquet\", stops_path = \"/home/data/test/cities/C3562/stops.geojson\"):\n",
    "    bus_stops = get_bus_stops(stops_path)\n",
    "    bus_stops = bus_stops_nodes(bus_stops, tree, nodes)\n",
    "    stop_pairs = get_stop_pairs(bus_stops, GTFS_PATH)\n",
    "    stop_pairs = get_pair_paths(stop_pairs, G, nodes, calculated_pair_path)\n",
    "\n",
    "    return stop_pairs[[\"next_stop_id\", \"prev_stop_id\",  \"stop_name_prev\", \"stop_name_next\", \"shortest_path\"]].rename({\"shortest_path\" : \"shortest_path_stops\"}, axis = 1)"
   ]
  },
  {
   "cell_type": "code",
   "execution_count": 3,
   "metadata": {},
   "outputs": [],
   "source": [
    "GTFS_PATH = \"https://urbantech-public.s3.amazonaws.com/DO-NOT-DELETE-BUSOBSERVATORY-PUBLIC-DATASET/one-system-day.tar.gz\"\n",
    "tree, nodes, G = get_node_data()"
   ]
  },
  {
   "cell_type": "code",
   "execution_count": 10,
   "metadata": {},
   "outputs": [
    {
     "name": "stdout",
     "output_type": "stream",
     "text": [
      "(0, 6)\n",
      "No new pairs to calculate\n"
     ]
    },
    {
     "data": {
      "text/html": [
       "<div>\n",
       "<style scoped>\n",
       "    .dataframe tbody tr th:only-of-type {\n",
       "        vertical-align: middle;\n",
       "    }\n",
       "\n",
       "    .dataframe tbody tr th {\n",
       "        vertical-align: top;\n",
       "    }\n",
       "\n",
       "    .dataframe thead th {\n",
       "        text-align: right;\n",
       "    }\n",
       "</style>\n",
       "<table border=\"1\" class=\"dataframe\">\n",
       "  <thead>\n",
       "    <tr style=\"text-align: right;\">\n",
       "      <th></th>\n",
       "      <th>next_stop_id</th>\n",
       "      <th>prev_stop_id</th>\n",
       "      <th>stop_name_prev</th>\n",
       "      <th>stop_name_next</th>\n",
       "      <th>shortest_path_stops</th>\n",
       "    </tr>\n",
       "  </thead>\n",
       "  <tbody>\n",
       "    <tr>\n",
       "      <th>0</th>\n",
       "      <td>MTA_203720</td>\n",
       "      <td>MTA_201572</td>\n",
       "      <td>FOREST AV/GRANDVIEW AV</td>\n",
       "      <td>SOUTH AV/BRABANT ST</td>\n",
       "      <td>[42981287.0, 42971135.0, 42971130.0, 42971125....</td>\n",
       "    </tr>\n",
       "    <tr>\n",
       "      <th>1</th>\n",
       "      <td>MTA_201525</td>\n",
       "      <td>MTA_203720</td>\n",
       "      <td>SOUTH AV/BRABANT ST</td>\n",
       "      <td>SOUTH AV/ARLINGTON PL</td>\n",
       "      <td>[42971120.0, 42971112.0]</td>\n",
       "    </tr>\n",
       "    <tr>\n",
       "      <th>2</th>\n",
       "      <td>MTA_200008</td>\n",
       "      <td>MTA_201525</td>\n",
       "      <td>SOUTH AV/ARLINGTON PL</td>\n",
       "      <td>RICHMOND TER/SOUTH AV</td>\n",
       "      <td>[42971112.0, 42971108.0]</td>\n",
       "    </tr>\n",
       "    <tr>\n",
       "      <th>3</th>\n",
       "      <td>MTA_202608</td>\n",
       "      <td>MTA_200008</td>\n",
       "      <td>RICHMOND TER/SOUTH AV</td>\n",
       "      <td>HAMILTON AV/EGMONT PL</td>\n",
       "      <td>[42971108.0, 42962136.0, 42981210.0, 42967005....</td>\n",
       "    </tr>\n",
       "    <tr>\n",
       "      <th>4</th>\n",
       "      <td>MTA_200761</td>\n",
       "      <td>MTA_202608</td>\n",
       "      <td>HAMILTON AV/EGMONT PL</td>\n",
       "      <td>HAMILTON AV/ST MARKS PL</td>\n",
       "      <td>[42962456.0, 42962450.0, 2494322125.0, 4295570...</td>\n",
       "    </tr>\n",
       "    <tr>\n",
       "      <th>...</th>\n",
       "      <td>...</td>\n",
       "      <td>...</td>\n",
       "      <td>...</td>\n",
       "      <td>...</td>\n",
       "      <td>...</td>\n",
       "    </tr>\n",
       "    <tr>\n",
       "      <th>60450</th>\n",
       "      <td>MTA_201934</td>\n",
       "      <td>MTA_200456</td>\n",
       "      <td>YUKON AV/RICHMOND AV</td>\n",
       "      <td>VICTORY BL/ALBERTA AV</td>\n",
       "      <td>[447772098.0, 447761758.0, 4209669876.0, 44776...</td>\n",
       "    </tr>\n",
       "    <tr>\n",
       "      <th>60451</th>\n",
       "      <td>MTA_403621</td>\n",
       "      <td>MTA_202590</td>\n",
       "      <td>VICTORY BL/RICHMOND AV (NEAR)</td>\n",
       "      <td>W 57 ST/AV OF THE AMERICAS</td>\n",
       "      <td>[42978137.0, 4407796037.0, 42978151.0, 4297815...</td>\n",
       "    </tr>\n",
       "    <tr>\n",
       "      <th>60452</th>\n",
       "      <td>MTA_201256</td>\n",
       "      <td>MTA_404873</td>\n",
       "      <td>5 AV/W 48 ST</td>\n",
       "      <td>RICHMOND TER/ST GEORGE FERRY</td>\n",
       "      <td>[42452353.0, 42434072.0, 42432693.0, 42443556....</td>\n",
       "    </tr>\n",
       "    <tr>\n",
       "      <th>60453</th>\n",
       "      <td>MTA_200176</td>\n",
       "      <td>MTA_200582</td>\n",
       "      <td>VICTORY BL/ALBERT ST</td>\n",
       "      <td>BAY ST/NICK LAPORTE PL</td>\n",
       "      <td>[42955040.0, 42978304.0, 42960625.0, 42955372....</td>\n",
       "    </tr>\n",
       "    <tr>\n",
       "      <th>60454</th>\n",
       "      <td>MTA_200584</td>\n",
       "      <td>MTA_200176</td>\n",
       "      <td>BAY ST/NICK LAPORTE PL</td>\n",
       "      <td>VICTORY BL/SLOSSON AV</td>\n",
       "      <td>[5043820751.0, 42965719.0, 42965724.0, 4517182...</td>\n",
       "    </tr>\n",
       "  </tbody>\n",
       "</table>\n",
       "<p>60455 rows × 5 columns</p>\n",
       "</div>"
      ],
      "text/plain": [
       "      next_stop_id prev_stop_id                 stop_name_prev  \\\n",
       "0       MTA_203720   MTA_201572         FOREST AV/GRANDVIEW AV   \n",
       "1       MTA_201525   MTA_203720            SOUTH AV/BRABANT ST   \n",
       "2       MTA_200008   MTA_201525          SOUTH AV/ARLINGTON PL   \n",
       "3       MTA_202608   MTA_200008          RICHMOND TER/SOUTH AV   \n",
       "4       MTA_200761   MTA_202608          HAMILTON AV/EGMONT PL   \n",
       "...            ...          ...                            ...   \n",
       "60450   MTA_201934   MTA_200456           YUKON AV/RICHMOND AV   \n",
       "60451   MTA_403621   MTA_202590  VICTORY BL/RICHMOND AV (NEAR)   \n",
       "60452   MTA_201256   MTA_404873                   5 AV/W 48 ST   \n",
       "60453   MTA_200176   MTA_200582           VICTORY BL/ALBERT ST   \n",
       "60454   MTA_200584   MTA_200176         BAY ST/NICK LAPORTE PL   \n",
       "\n",
       "                     stop_name_next  \\\n",
       "0               SOUTH AV/BRABANT ST   \n",
       "1             SOUTH AV/ARLINGTON PL   \n",
       "2             RICHMOND TER/SOUTH AV   \n",
       "3             HAMILTON AV/EGMONT PL   \n",
       "4           HAMILTON AV/ST MARKS PL   \n",
       "...                             ...   \n",
       "60450         VICTORY BL/ALBERTA AV   \n",
       "60451    W 57 ST/AV OF THE AMERICAS   \n",
       "60452  RICHMOND TER/ST GEORGE FERRY   \n",
       "60453        BAY ST/NICK LAPORTE PL   \n",
       "60454         VICTORY BL/SLOSSON AV   \n",
       "\n",
       "                                     shortest_path_stops  \n",
       "0      [42981287.0, 42971135.0, 42971130.0, 42971125....  \n",
       "1                               [42971120.0, 42971112.0]  \n",
       "2                               [42971112.0, 42971108.0]  \n",
       "3      [42971108.0, 42962136.0, 42981210.0, 42967005....  \n",
       "4      [42962456.0, 42962450.0, 2494322125.0, 4295570...  \n",
       "...                                                  ...  \n",
       "60450  [447772098.0, 447761758.0, 4209669876.0, 44776...  \n",
       "60451  [42978137.0, 4407796037.0, 42978151.0, 4297815...  \n",
       "60452  [42452353.0, 42434072.0, 42432693.0, 42443556....  \n",
       "60453  [42955040.0, 42978304.0, 42960625.0, 42955372....  \n",
       "60454  [5043820751.0, 42965719.0, 42965724.0, 4517182...  \n",
       "\n",
       "[60455 rows x 5 columns]"
      ]
     },
     "execution_count": 10,
     "metadata": {},
     "output_type": "execute_result"
    }
   ],
   "source": [
    "full_process_stops(tree, nodes, G, GTFS_PATH, calculated_pair_path = \"data/node_pairs.parquet\", stops_path = \"/home/data/test/cities/C3562/stops.geojson\")"
   ]
  },
  {
   "cell_type": "code",
   "execution_count": null,
   "metadata": {},
   "outputs": [],
   "source": [
    "stop_paths = NYC_gtfs_rt.merge(stops_with_dists, how = \"outer\")[[\"trip_id\", \"origin_id\", \"next_stop_id\",\"stop_name_prev\", \"stop_name_next\", \"shortest_path\"]].rename({\"shortest_path\" : \"shortest_path_between_stops\"}, axis = 1)"
   ]
  },
  {
   "cell_type": "code",
   "execution_count": null,
   "metadata": {},
   "outputs": [],
   "source": [
    "processed_buses = gpd.read_parquet(\"/home/canyon/Bus-Weather-Impacts/data/buses_with_segmented.parquet\")\n",
    "processed_buses"
   ]
  },
  {
   "cell_type": "code",
   "execution_count": null,
   "metadata": {},
   "outputs": [],
   "source": [
    "processed_buses = processed_buses.merge(stop_paths)"
   ]
  },
  {
   "cell_type": "code",
   "execution_count": null,
   "metadata": {},
   "outputs": [],
   "source": [
    "def check_in_bus_path(row):\n",
    "    if isinstance(row[\"shortest_path_between_stops\"], (list, np.ndarray)):\n",
    "        return row[\"from\"] in row[\"shortest_path_between_stops\"] and row[\"to\"] in row[\"shortest_path_between_stops\"]\n",
    "    return False\n",
    "\n",
    "processed_buses[\"in_bus_path\"] = processed_buses.apply(check_in_bus_path, axis=1)"
   ]
  },
  {
   "cell_type": "code",
   "execution_count": null,
   "metadata": {},
   "outputs": [],
   "source": [
    "processed_buses.groupby(\"route\")[\"in_bus_path\"].mean().reset_index().sort_values(\"in_bus_path\")"
   ]
  },
  {
   "cell_type": "code",
   "execution_count": null,
   "metadata": {},
   "outputs": [],
   "source": [
    "processed_buses.groupby(\"in_bus_path\")[\"speed_osm\"].describe()"
   ]
  },
  {
   "cell_type": "code",
   "execution_count": null,
   "metadata": {},
   "outputs": [],
   "source": [
    "NYC_stops.query(\"stop_id == '303117'\")"
   ]
  },
  {
   "cell_type": "code",
   "execution_count": null,
   "metadata": {},
   "outputs": [],
   "source": [
    "processed_buses.query(\"route == 'M96''\")"
   ]
  },
  {
   "cell_type": "code",
   "execution_count": null,
   "metadata": {},
   "outputs": [],
   "source": [
    "processed_buses[\"speed_truncated\"] = processed_buses.speed_osm.apply(lambda x: x if x < 70 else 70)"
   ]
  },
  {
   "cell_type": "code",
   "execution_count": null,
   "metadata": {},
   "outputs": [],
   "source": [
    "(ggplot(processed_buses.query(\"route.str.startswith('M96')\"), aes(x = \"speed_truncated\", color = \"in_bus_path\")) + geom_density())"
   ]
  },
  {
   "cell_type": "code",
   "execution_count": null,
   "metadata": {},
   "outputs": [],
   "source": [
    "processed_buses.query(\"route.str.startswith('M96')\").plot()"
   ]
  },
  {
   "cell_type": "code",
   "execution_count": null,
   "metadata": {},
   "outputs": [],
   "source": []
  }
 ],
 "metadata": {
  "kernelspec": {
   "display_name": "TOP-Sprint-lAvM2-mU",
   "language": "python",
   "name": "python3"
  },
  "language_info": {
   "codemirror_mode": {
    "name": "ipython",
    "version": 3
   },
   "file_extension": ".py",
   "mimetype": "text/x-python",
   "name": "python",
   "nbconvert_exporter": "python",
   "pygments_lexer": "ipython3",
   "version": "3.9.18"
  }
 },
 "nbformat": 4,
 "nbformat_minor": 2
}
