{
 "cells": [
  {
   "cell_type": "code",
   "execution_count": 1,
   "metadata": {},
   "outputs": [],
   "source": [
    "import os \n",
    "os.chdir(\"/home/canyon/Bus-Weather-Impacts\")\n",
    "from src.utils import *\n",
    "import pandas as pd\n",
    "import os\n",
    "import osmnx as ox\n",
    "import numpy as np\n",
    "import geopandas as gpd\n",
    "import networkx as nx\n",
    "from sklearn.neighbors import KDTree\n",
    "import numpy as np\n",
    "pd.options.mode.chained_assignment = None\n",
    "pd.set_option('display.float_format', '{:.02f}'.format)\n",
    "from geopy.distance import geodesic"
   ]
  },
  {
   "cell_type": "code",
   "execution_count": 4,
   "metadata": {},
   "outputs": [],
   "source": [
    "GTFS_PATH = \"https://urbantech-public.s3.amazonaws.com/DO-NOT-DELETE-BUSOBSERVATORY-PUBLIC-DATASET/one-system-day.tar.gz\"\n",
    "buses = read_parquet_from_tar_gz(GTFS_PATH)[[\"route\", \"trip_id\", \"timestamp\", \"lat\", \"lon\"]]"
   ]
  },
  {
   "cell_type": "code",
   "execution_count": 5,
   "metadata": {},
   "outputs": [],
   "source": [
    "buses = gpd.GeoDataFrame(\n",
    "        buses,\n",
    "        geometry=gpd.points_from_xy(buses[\"lon\"], buses[\"lat\"]),\n",
    "        crs=4326\n",
    "    )\n",
    "\n",
    "buses = buses.to_crs(2263)\n",
    "buses[\"planar_x\"] = buses.geometry.x\n",
    "buses[\"planar_y\"] = buses.geometry.y\n",
    "buses = buses.sort_values([\"trip_id\", \"timestamp\"])"
   ]
  },
  {
   "cell_type": "code",
   "execution_count": 6,
   "metadata": {},
   "outputs": [],
   "source": [
    "buses[\"planar_x_prev\"] = buses[\"planar_x\"].shift(1)\n",
    "buses[\"planar_y_prev\"] = buses[\"planar_y\"].shift(1)\n",
    "buses[\"time_diff_seconds\"] = buses.groupby(\"trip_id\")[\"timestamp\"].diff().dt.total_seconds()\n",
    "buses = buses.query(\"time_diff_seconds < 70 and time_diff_seconds > 50\")"
   ]
  },
  {
   "cell_type": "code",
   "execution_count": 7,
   "metadata": {},
   "outputs": [],
   "source": [
    "buses[\"distance\"] = np.sqrt((buses[\"planar_x_prev\"] - buses[\"planar_x\"])**2 +  (buses[\"planar_y_prev\"] - buses[\"planar_y\"])**2) \n",
    "buses[\"speed_mph\"] = (buses[\"distance\"] / 5280) / (buses[\"time_diff_seconds\"] / 3600)\n",
    "buses[\"speed_mph\"].describe()\n",
    "buses_trim = buses[[\"route\", \"trip_id\", \"timestamp\", \"speed_mph\", \"geometry\"]]"
   ]
  }
 ],
 "metadata": {
  "kernelspec": {
   "display_name": "TOP-Sprint-lAvM2-mU",
   "language": "python",
   "name": "python3"
  },
  "language_info": {
   "codemirror_mode": {
    "name": "ipython",
    "version": 3
   },
   "file_extension": ".py",
   "mimetype": "text/x-python",
   "name": "python",
   "nbconvert_exporter": "python",
   "pygments_lexer": "ipython3",
   "version": "3.9.18"
  }
 },
 "nbformat": 4,
 "nbformat_minor": 2
}
