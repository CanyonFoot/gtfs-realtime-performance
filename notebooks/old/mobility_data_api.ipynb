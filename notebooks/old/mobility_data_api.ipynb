{
 "cells": [
  {
   "cell_type": "code",
   "execution_count": 1,
   "metadata": {},
   "outputs": [],
   "source": [
    "refresh_token = \"AMf-vBxxw5qPbH_3R4W6BM_8CFhMZTQPbhnG-6VHefeNOvR4UNYTs9DEmNQ7_U38n9Xc2XXUpRkUeBvFMzu9dplgb_CRgRiwx5yEX9lxzvSv1ryKe18CDTOf437RZFR7dv_mre80SYAFd0myoXV6r5TTLHQDW9X73hwea3X5cVbnlpt3Tdxl_nUSzV2uWpG0JVELOr5AUjzSFcyefHyyWSv7kqC1cVWfnXWcQ1oF22VcOBVcUaGF-7Yk33rw1yclpDa0PfFtYjzOP-PxDn4LD1xxF1rsS6n-sqJQZ-3jssAdsFMz0M9eDIwh648tbsP_l5s45TFs2VEr2RsUAMvVuDgn7BLo0RBIq-HJNWJDvmTIsE98thkFHzN713cd3QbfNquuiRosyuTXOo1el3QxJ2QR2mgNqjQSyGWU8HosYvy0jfV25SYK0jrnkBQPYLA09CPThEZ5-FCI\""
   ]
  },
  {
   "cell_type": "code",
   "execution_count": 2,
   "metadata": {},
   "outputs": [],
   "source": [
    "import requests\n",
    "import zipfile\n",
    "import io\n",
    "import pandas as pd"
   ]
  },
  {
   "cell_type": "code",
   "execution_count": null,
   "metadata": {},
   "outputs": [],
   "source": [
    "def get_access_token(refresh_token):\n",
    "    url = \"https://api.mobilitydatabase.org/v1/tokens\"\n",
    "    headers = {\n",
    "        \"Content-Type\": \"application/json\"\n",
    "    }\n",
    "    data = {\n",
    "        \"refresh_token\": refresh_token\n",
    "    }\n",
    "\n",
    "    response = requests.post(url, headers=headers, json=data)\n",
    "\n",
    "    # Check if the request was successful\n",
    "    if response.status_code == 200:\n",
    "        # Access the response JSON content\n",
    "        return response.json()['access_token']\n",
    "    else:\n",
    "        print(f\"Request failed with status code {response.status_code}\")\n"
   ]
  },
  {
   "cell_type": "code",
   "execution_count": 3,
   "metadata": {},
   "outputs": [
    {
     "name": "stdout",
     "output_type": "stream",
     "text": [
      "{'access_token': 'eyJhbGciOiJSUzI1NiIsImtpZCI6ImNjNWU0MTg0M2M1ZDUyZTY4ZWY1M2UyYmVjOTgxNDNkYTE0NDkwNWUiLCJ0eXAiOiJKV1QifQ.eyJuYW1lIjoiQ2FueW9uIEZvb3QiLCJwaWN0dXJlIjoiaHR0cHM6Ly9saDMuZ29vZ2xldXNlcmNvbnRlbnQuY29tL2EvQUNnOG9jTFVhS2JNUjNPY09WMFVkbzc3d1R3eVRIRVAxRUtsYzRjQzBCUXZJX1Z2cEkyaldnPXM5Ni1jIiwiaXNzIjoiaHR0cHM6Ly9zZWN1cmV0b2tlbi5nb29nbGUuY29tL21vYmlsaXR5LWZlZWRzLXByb2QiLCJhdWQiOiJtb2JpbGl0eS1mZWVkcy1wcm9kIiwiYXV0aF90aW1lIjoxNzI1MDM1ODAzLCJ1c2VyX2lkIjoiSmtNeGtzSG5MaWUwZDRaWmNHRXRkcHVWMWowMiIsInN1YiI6IkprTXhrc0huTGllMGQ0WlpjR0V0ZHB1VjFqMDIiLCJpYXQiOjE3MjUzOTMxMTgsImV4cCI6MTcyNTM5NjcxOCwiZW1haWwiOiJjYW55b24uZm9vdEB0c2RhdGFjbGluaWMuY29tIiwiZW1haWxfdmVyaWZpZWQiOnRydWUsImZpcmViYXNlIjp7ImlkZW50aXRpZXMiOnsiZ29vZ2xlLmNvbSI6WyIxMTc0NjgyMDgyMDUwNTgyMzIwNDYiXSwiZW1haWwiOlsiY2FueW9uLmZvb3RAdHNkYXRhY2xpbmljLmNvbSJdfSwic2lnbl9pbl9wcm92aWRlciI6Imdvb2dsZS5jb20ifX0.udwTh8TDu346tWL4ClBaqeu01vkJBefTrInGH9XJIxfl20cOtsotFTBHU_p7XVPel78lCXf2yOXSxug7_ejzVtbRHOya8pZqUmjniMEhmOKVCorOKK75sL8sgy7bC95_BVZGUDYqgllbkDNjTeLyvLgtjR-6ExxA1Po8-M8buausTMXnSw8qAQvD7DDfu36Jr7tAxamX2mLhgqNPWi1sJKhrBbA-pspECnBE0lS-YxihoYsjOuXwNx63V2AErjk334yK-zyuCgWBZXWzTreBuRbmZxOSCYXZUl-WF6mSsu6ONUvYFrKg0dhasSSYCK9jBhXpp0cFdiQ0w5RuKBUSeQ', 'expiration_datetime_utc': '2024-09-03T20:51:58Z', 'token_type': 'Bearer'}\n"
     ]
    }
   ],
   "source": [
    "url = \"https://api.mobilitydatabase.org/v1/tokens\"\n",
    "headers = {\n",
    "    \"Content-Type\": \"application/json\"\n",
    "}\n",
    "data = {\n",
    "    \"refresh_token\": refresh_token\n",
    "}\n",
    "\n",
    "response = requests.post(url, headers=headers, json=data)\n",
    "\n",
    "# Check if the request was successful\n",
    "if response.status_code == 200:\n",
    "    # Access the response JSON content\n",
    "    print(response.json())\n",
    "else:\n",
    "    print(f\"Request failed with status code {response.status_code}\")\n"
   ]
  },
  {
   "cell_type": "code",
   "execution_count": 4,
   "metadata": {},
   "outputs": [],
   "source": [
    "access_token = response.json()['access_token']"
   ]
  },
  {
   "cell_type": "code",
   "execution_count": 5,
   "metadata": {},
   "outputs": [],
   "source": [
    "def query_feed_data(feed_id, access_token):\n",
    "    url_metadata = f\"https://api.mobilitydatabase.org/v1/gtfs_feeds/{feed_id}/datasets\"\n",
    "    headers_metadata = {\n",
    "        \"Accept\": \"application/json\",\n",
    "        \"Authorization\": f\"Bearer {access_token}\"\n",
    "    }\n",
    "\n",
    "    response_metadata = requests.get(url_metadata, headers=headers_metadata)\n",
    "\n",
    "    if response_metadata.status_code == 200:\n",
    "        return response_metadata.json()\n",
    "    else:\n",
    "        print(f\"Request failed with status code {response_metadata.status_code}\")"
   ]
  },
  {
   "cell_type": "code",
   "execution_count": 6,
   "metadata": {},
   "outputs": [
    {
     "data": {
      "text/plain": [
       "'https://files.mobilitydatabase.org/mdb-513/mdb-513-202402080022/mdb-513-202402080022.zip'"
      ]
     },
     "execution_count": 6,
     "metadata": {},
     "output_type": "execute_result"
    }
   ],
   "source": [
    "query_feed_data(\"mdb-513\", access_token)[0]['hosted_url']"
   ]
  },
  {
   "cell_type": "code",
   "execution_count": 7,
   "metadata": {},
   "outputs": [
    {
     "name": "stdout",
     "output_type": "stream",
     "text": [
      "{'id': 'mdb-1210-202402121801', 'feed_id': 'mdb-1210', 'hosted_url': 'https://files.mobilitydatabase.org/mdb-1210/mdb-1210-202402121801/mdb-1210-202402121801.zip', 'note': None, 'downloaded_at': '2024-02-12T18:16:05.015625Z', 'hash': 'ad3805c4941cd37881ff40c342e831b5f5224f3d8a9a2ec3ac197d3652c78e42', 'bounding_box': {'minimum_latitude': 33.721601, 'maximum_latitude': 34.323077, 'minimum_longitude': -118.88282900000002, 'maximum_longitude': -118.13174800000002}, 'validation_report': None}\n"
     ]
    }
   ],
   "source": [
    "url_metadata = \"https://api.mobilitydatabase.org/v1/datasets/gtfs/mdb-1210-202402121801\"\n",
    "headers_metadata = {\n",
    "    \"Accept\": \"application/json\",\n",
    "    \"Authorization\": f\"Bearer {access_token}\"\n",
    "}\n",
    "\n",
    "response_metadata = requests.get(url_metadata, headers=headers_metadata)\n",
    "\n",
    "if response_metadata.status_code == 200:\n",
    "    print(response_metadata.json())\n",
    "else:\n",
    "    print(f\"Request failed with status code {response_metadata.status_code}\")"
   ]
  },
  {
   "cell_type": "code",
   "execution_count": 8,
   "metadata": {},
   "outputs": [],
   "source": [
    "def parse_zipped_gtfs(url):\n",
    "    url = response_metadata.json()['hosted_url']\n",
    "    response = requests.get(url)\n",
    "    zip_file = zipfile.ZipFile(io.BytesIO(response.content))\n",
    "\n",
    "    # Step 2: List all the files in the ZIP archive\n",
    "    file_names = zip_file.namelist()\n",
    "    print(\"Files in the zip:\", file_names)\n",
    "\n",
    "    # Step 3: Read each CSV file into a pandas DataFrame\n",
    "    dataframes = {}\n",
    "    for file_name in file_names:\n",
    "        if file_name.endswith('.txt'):\n",
    "            with zip_file.open(file_name) as csv_file:\n",
    "                df = pd.read_csv(csv_file)\n",
    "                dataframes[file_name] = df\n",
    "                print(f\"Data from {file_name}:\")\n",
    "\n",
    "    return dataframes"
   ]
  },
  {
   "cell_type": "code",
   "execution_count": 9,
   "metadata": {},
   "outputs": [
    {
     "name": "stdout",
     "output_type": "stream",
     "text": [
      "Files in the zip: ['agency.txt', 'stops.txt', 'routes.txt', 'trips.txt', 'stop_times.txt', 'calendar.txt', 'shapes.txt', 'calendar_dates.txt', 'calendar_attributes.txt', 'realtime_routes.txt', 'directions.txt', 'feed_info.txt']\n",
      "Data from agency.txt:\n",
      "Data from stops.txt:\n",
      "Data from routes.txt:\n",
      "Data from trips.txt:\n",
      "Data from stop_times.txt:\n",
      "Data from calendar.txt:\n",
      "Data from shapes.txt:\n",
      "Data from calendar_dates.txt:\n",
      "Data from calendar_attributes.txt:\n",
      "Data from realtime_routes.txt:\n",
      "Data from directions.txt:\n",
      "Data from feed_info.txt:\n"
     ]
    }
   ],
   "source": [
    "GTFS_dict = parse_zipped_gtfs(query_feed_data(\"mdb-513\", access_token)[0]['hosted_url'])"
   ]
  },
  {
   "cell_type": "code",
   "execution_count": 30,
   "metadata": {},
   "outputs": [
    {
     "data": {
      "text/plain": [
       "dict_keys(['agency.txt', 'stops.txt', 'routes.txt', 'trips.txt', 'stop_times.txt', 'calendar.txt', 'shapes.txt', 'calendar_dates.txt', 'calendar_attributes.txt', 'realtime_routes.txt', 'directions.txt', 'feed_info.txt'])"
      ]
     },
     "execution_count": 30,
     "metadata": {},
     "output_type": "execute_result"
    }
   ],
   "source": [
    "GTFS_dict.keys()"
   ]
  },
  {
   "cell_type": "code",
   "execution_count": 18,
   "metadata": {},
   "outputs": [
    {
     "data": {
      "text/html": [
       "<div>\n",
       "<style scoped>\n",
       "    .dataframe tbody tr th:only-of-type {\n",
       "        vertical-align: middle;\n",
       "    }\n",
       "\n",
       "    .dataframe tbody tr th {\n",
       "        vertical-align: top;\n",
       "    }\n",
       "\n",
       "    .dataframe thead th {\n",
       "        text-align: right;\n",
       "    }\n",
       "</style>\n",
       "<table border=\"1\" class=\"dataframe\">\n",
       "  <thead>\n",
       "    <tr style=\"text-align: right;\">\n",
       "      <th></th>\n",
       "      <th>shape_id</th>\n",
       "      <th>shape_pt_lat</th>\n",
       "      <th>shape_pt_lon</th>\n",
       "      <th>shape_pt_sequence</th>\n",
       "      <th>shape_dist_traveled</th>\n",
       "    </tr>\n",
       "  </thead>\n",
       "  <tbody>\n",
       "    <tr>\n",
       "      <th>0</th>\n",
       "      <td>14467</td>\n",
       "      <td>34.033099</td>\n",
       "      <td>-118.268863</td>\n",
       "      <td>0</td>\n",
       "      <td>0.000000</td>\n",
       "    </tr>\n",
       "    <tr>\n",
       "      <th>1</th>\n",
       "      <td>14467</td>\n",
       "      <td>34.033214</td>\n",
       "      <td>-118.269195</td>\n",
       "      <td>1</td>\n",
       "      <td>33.272479</td>\n",
       "    </tr>\n",
       "    <tr>\n",
       "      <th>2</th>\n",
       "      <td>14467</td>\n",
       "      <td>34.033421</td>\n",
       "      <td>-118.269659</td>\n",
       "      <td>2</td>\n",
       "      <td>81.981392</td>\n",
       "    </tr>\n",
       "    <tr>\n",
       "      <th>3</th>\n",
       "      <td>14467</td>\n",
       "      <td>34.033715</td>\n",
       "      <td>-118.270313</td>\n",
       "      <td>3</td>\n",
       "      <td>150.753349</td>\n",
       "    </tr>\n",
       "    <tr>\n",
       "      <th>4</th>\n",
       "      <td>14467</td>\n",
       "      <td>34.034274</td>\n",
       "      <td>-118.271598</td>\n",
       "      <td>4</td>\n",
       "      <td>284.905065</td>\n",
       "    </tr>\n",
       "    <tr>\n",
       "      <th>...</th>\n",
       "      <td>...</td>\n",
       "      <td>...</td>\n",
       "      <td>...</td>\n",
       "      <td>...</td>\n",
       "      <td>...</td>\n",
       "    </tr>\n",
       "    <tr>\n",
       "      <th>33846</th>\n",
       "      <td>9894</td>\n",
       "      <td>34.052204</td>\n",
       "      <td>-118.448367</td>\n",
       "      <td>572</td>\n",
       "      <td>33527.627268</td>\n",
       "    </tr>\n",
       "    <tr>\n",
       "      <th>33847</th>\n",
       "      <td>9894</td>\n",
       "      <td>34.051366</td>\n",
       "      <td>-118.447568</td>\n",
       "      <td>573</td>\n",
       "      <td>33646.507998</td>\n",
       "    </tr>\n",
       "    <tr>\n",
       "      <th>33848</th>\n",
       "      <td>9894</td>\n",
       "      <td>34.051178</td>\n",
       "      <td>-118.447377</td>\n",
       "      <td>574</td>\n",
       "      <td>33673.867031</td>\n",
       "    </tr>\n",
       "    <tr>\n",
       "      <th>33849</th>\n",
       "      <td>9894</td>\n",
       "      <td>34.050826</td>\n",
       "      <td>-118.447088</td>\n",
       "      <td>575</td>\n",
       "      <td>33721.242883</td>\n",
       "    </tr>\n",
       "    <tr>\n",
       "      <th>33850</th>\n",
       "      <td>9894</td>\n",
       "      <td>34.050144</td>\n",
       "      <td>-118.446585</td>\n",
       "      <td>576</td>\n",
       "      <td>33810.168715</td>\n",
       "    </tr>\n",
       "  </tbody>\n",
       "</table>\n",
       "<p>33851 rows × 5 columns</p>\n",
       "</div>"
      ],
      "text/plain": [
       "       shape_id  shape_pt_lat  shape_pt_lon  shape_pt_sequence  \\\n",
       "0         14467     34.033099   -118.268863                  0   \n",
       "1         14467     34.033214   -118.269195                  1   \n",
       "2         14467     34.033421   -118.269659                  2   \n",
       "3         14467     34.033715   -118.270313                  3   \n",
       "4         14467     34.034274   -118.271598                  4   \n",
       "...         ...           ...           ...                ...   \n",
       "33846      9894     34.052204   -118.448367                572   \n",
       "33847      9894     34.051366   -118.447568                573   \n",
       "33848      9894     34.051178   -118.447377                574   \n",
       "33849      9894     34.050826   -118.447088                575   \n",
       "33850      9894     34.050144   -118.446585                576   \n",
       "\n",
       "       shape_dist_traveled  \n",
       "0                 0.000000  \n",
       "1                33.272479  \n",
       "2                81.981392  \n",
       "3               150.753349  \n",
       "4               284.905065  \n",
       "...                    ...  \n",
       "33846         33527.627268  \n",
       "33847         33646.507998  \n",
       "33848         33673.867031  \n",
       "33849         33721.242883  \n",
       "33850         33810.168715  \n",
       "\n",
       "[33851 rows x 5 columns]"
      ]
     },
     "execution_count": 18,
     "metadata": {},
     "output_type": "execute_result"
    }
   ],
   "source": [
    "dataframes['shapes.txt']"
   ]
  },
  {
   "cell_type": "code",
   "execution_count": null,
   "metadata": {},
   "outputs": [],
   "source": []
  }
 ],
 "metadata": {
  "kernelspec": {
   "display_name": "TOP-Sprint-lAvM2-mU",
   "language": "python",
   "name": "python3"
  },
  "language_info": {
   "codemirror_mode": {
    "name": "ipython",
    "version": 3
   },
   "file_extension": ".py",
   "mimetype": "text/x-python",
   "name": "python",
   "nbconvert_exporter": "python",
   "pygments_lexer": "ipython3",
   "version": "3.9.18"
  }
 },
 "nbformat": 4,
 "nbformat_minor": 2
}
