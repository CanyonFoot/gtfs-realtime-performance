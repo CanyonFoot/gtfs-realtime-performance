{
 "cells": [
  {
   "cell_type": "code",
   "execution_count": 1,
   "metadata": {},
   "outputs": [],
   "source": [
    "import os \n",
    "os.chdir(\"/home/canyon/Bus-Weather-Impacts\")\n",
    "from src.utils import *\n",
    "import pandas as pd\n",
    "import os\n",
    "import osmnx as ox\n",
    "import numpy as np\n",
    "import geopandas as gpd\n",
    "import networkx as nx\n",
    "from sklearn.neighbors import KDTree\n",
    "import numpy as np\n",
    "pd.options.mode.chained_assignment = None\n",
    "pd.set_option('display.float_format', '{:.02f}'.format)\n",
    "from geopy.distance import geodesic\n",
    "from shapely.ops import linemerge\n",
    "pd.set_option('display.float_format', lambda x: '%.6f' % x)\n",
    "pd.set_option('display.max_columns', None)\n",
    "import contextily as ctx\n",
    "from src.api import parse_zipped_gtfs\n",
    "import matplotlib.pyplot as plt\n",
    "from src.gtfs_segments import GTFS_shape_processor"
   ]
  },
  {
   "cell_type": "code",
   "execution_count": 2,
   "metadata": {},
   "outputs": [],
   "source": [
    "url = pd.read_csv(\"https://data.ny.gov/resource/58t6-89vi.csv?$limit=10000000\")\n",
    "\n",
    "# URL of the dataset (replace with actual dataset identifier)\n",
    "# SoQL query parameters to get data for the date '2023-09-29'\n",
    "params = {\n",
    "    \"$where\": \"Timestamp >= '2023-10-01 T00:00:00.000' AND Timestamp < '2023-10-31 T00:00:00.000'\",\n",
    "    \"$limit\": 1000000000,\n",
    "}\n",
    "\n",
    "response = requests.get(url, params=params)\n",
    "\n",
    "# Check if the request was successful\n",
    "if response.status_code == 200:\n",
    "    mta_data = pd.DataFrame(response.json())\n",
    "else:\n",
    "    print(\"Error:\", response.status_code)"
   ]
  },
  {
   "cell_type": "code",
   "execution_count": 3,
   "metadata": {},
   "outputs": [],
   "source": [
    "gtfs_speed = read_speeds_between_dates(\"2023-10-01\", \"2023-10-30\")"
   ]
  },
  {
   "cell_type": "code",
   "execution_count": 4,
   "metadata": {},
   "outputs": [],
   "source": [
    "feeds = [\"https://transitfeeds.com/p/mta/80/20230918/download\", \"https://transitfeeds.com/p/mta/81/20230918/download\", \"https://transitfeeds.com/p/mta/83/20230918/download\", \"https://transitfeeds.com/p/mta/82/20230919/download\", \"https://transitfeeds.com/p/mta/84/20230919/download\", \"https://transitfeeds.com/p/mta/85/20230918/download\"]\n",
    "nyc_gtfs_trips = []\n",
    "nyc_stops = []\n",
    "for feed in feeds:\n",
    "    gtfs = parse_zipped_gtfs(feed)\n",
    "    nyc_gtfs_trips.append(gtfs['trips.txt'])\n",
    "full_trips = pd.concat(nyc_gtfs_trips)\n",
    "full_trips = full_trips[[\"route_id\", \"trip_id\"]]\n",
    "\n",
    "full_trips.to_parquet(\"/home/data/bus-weather/nyc_trip_shapes.parquet\")"
   ]
  },
  {
   "cell_type": "code",
   "execution_count": 5,
   "metadata": {},
   "outputs": [],
   "source": [
    "gtfs_speed = gtfs_speed.query(\"speed_mph < 70 & speed_mph > 0\").merge(full_trips)"
   ]
  },
  {
   "cell_type": "code",
   "execution_count": 6,
   "metadata": {},
   "outputs": [],
   "source": [
    "gtfs_speed[\"hour_of_day\"] = gtfs_speed[\"interpolated_time\"].dt.hour\n",
    "gtfs_speed[\"month\"] = gtfs_speed[\"interpolated_time\"].dt.month\n",
    "gtfs_speed[\"year\"] = gtfs_speed[\"interpolated_time\"].dt.year\n",
    "gtfs_speed[\"day_of_week\"] = gtfs_speed[\"interpolated_time\"].dt.day_name()\n",
    "gtfs_speed[\"date\"] = pd.to_datetime(gtfs_speed[\"interpolated_time\"].dt.date)\n",
    "gtfs_speed['combined_datetime'] = gtfs_speed['date'] + pd.to_timedelta(gtfs_speed['hour_of_day'], unit='h')"
   ]
  },
  {
   "cell_type": "code",
   "execution_count": 7,
   "metadata": {},
   "outputs": [],
   "source": [
    "hourly_speeds_gtfs = gtfs_speed.groupby([\"route_id\", \"year\", \"month\", \"hour_of_day\", \"day_of_week\", \"stop_id\", \"prev_stop_id\", \"stop_name\", \"prev_stop_name\"]).agg(avg_speed_gtfs = (\"speed_mph\", \"mean\"),\n",
    "                                                                                                                                    gtfs_bus_count = (\"unique_trip_id\", \"nunique\")).reset_index().rename({\"stop_id\" : \"next_timepoint_stop_id\",\n",
    "                                                                                                                                                                                                          \"prev_stop_id\": \"timepoint_stop_id\",\n",
    "                                                                                                                                                                                                          \"prev_stop_name\" : \"timepoint_stop_name\",\n",
    "                                                                                                                                                                                                          \"stop_name\" : \"next_timepoint_stop_name\"}, axis = 1)"
   ]
  },
  {
   "cell_type": "code",
   "execution_count": 8,
   "metadata": {},
   "outputs": [],
   "source": [
    "hourly_speeds_mta = mta_speeds[[\"route_id\", \"year\", \"month\", \"hour_of_day\", \"day_of_week\", \"timepoint_stop_id\", \"next_timepoint_stop_id\", \"timepoint_stop_name\", \"next_timepoint_stop_name\", \"average_road_speed\", \"bus_trip_count\"]]"
   ]
  },
  {
   "cell_type": "code",
   "execution_count": 9,
   "metadata": {},
   "outputs": [],
   "source": [
    "test_merged = hourly_speeds_gtfs.merge(hourly_speeds_mta, how = \"inner\")"
   ]
  },
  {
   "cell_type": "code",
   "execution_count": null,
   "metadata": {},
   "outputs": [],
   "source": [
    "np.corrcoef(test_merged[\"average_road_speed\"], test_merged[\"avg_speed_gtfs\"])"
   ]
  },
  {
   "cell_type": "code",
   "execution_count": 11,
   "metadata": {},
   "outputs": [],
   "source": [
    "mta_routes = hourly_speeds_mta.route_id.drop_duplicates()"
   ]
  },
  {
   "cell_type": "code",
   "execution_count": 12,
   "metadata": {},
   "outputs": [],
   "source": [
    "gtfs_routes = hourly_speeds_gtfs.route_id.drop_duplicates()"
   ]
  },
  {
   "cell_type": "code",
   "execution_count": null,
   "metadata": {},
   "outputs": [],
   "source": [
    "segments = []\n",
    "for feed in feeds:\n",
    "    segment_df = GTFS_shape_processor(feed, 4326, 2263).process_shapes()\n",
    "    segments.append(segment_df)\n",
    "\n",
    "full_segments = pd.concat(segments)"
   ]
  },
  {
   "cell_type": "code",
   "execution_count": 14,
   "metadata": {},
   "outputs": [],
   "source": [
    "full_segments.drop(\"trip_id\", axis = 1).drop_duplicates().to_parquet(\"/home/data/bus-weather/bus_segments_2023_09_18.parquet\")"
   ]
  },
  {
   "cell_type": "code",
   "execution_count": 15,
   "metadata": {},
   "outputs": [],
   "source": [
    "ntas_url = \"https://data.cityofnewyork.us/api/geospatial/d3qk-pfyz?method=export&format=GeoJSON\"\n",
    "ntas = gpd.read_file(ntas_url).to_crs(2263)"
   ]
  },
  {
   "cell_type": "code",
   "execution_count": null,
   "metadata": {},
   "outputs": [],
   "source": [
    "full_seg_nta = full_segments.overlay(ntas).drop_duplicates([\"stop_id\", \"prev_stop_id\"])"
   ]
  },
  {
   "cell_type": "code",
   "execution_count": 52,
   "metadata": {},
   "outputs": [],
   "source": [
    "gtfs_speed = gtfs_speed.merge(full_seg_nta[[\"stop_id\", \"prev_stop_id\", \"ntaname\", \"ntacode\", \"boroname\"]]).drop_duplicates()"
   ]
  },
  {
   "cell_type": "code",
   "execution_count": 98,
   "metadata": {},
   "outputs": [],
   "source": [
    "hourly_speeds = gtfs_speed.groupby([\"combined_datetime\", \"ntaname\", \"boroname\", \"ntacode\", \"date\", \"day_of_week\", \"hour_of_day\"]).agg(avg_speed_gtfs = (\"speed_mph\", \"mean\"), gtfs_bus_count = (\"unique_trip_id\", \"nunique\")).reset_index().query(\"gtfs_bus_count > 5\")"
   ]
  },
  {
   "cell_type": "code",
   "execution_count": null,
   "metadata": {},
   "outputs": [],
   "source": [
    "ggplot(hourly_speeds, aes(color = \"day_of_week\", x = \"avg_speed_gtfs\")) + geom_density()"
   ]
  },
  {
   "cell_type": "code",
   "execution_count": null,
   "metadata": {},
   "outputs": [],
   "source": [
    "ggplot(mta_speeds.query(\"month == 10\"), aes(color = \"day_of_week\", x = \"average_road_speed\")) + geom_density()"
   ]
  },
  {
   "cell_type": "code",
   "execution_count": 99,
   "metadata": {},
   "outputs": [],
   "source": [
    "codes = [\"BK73\", \"BK72\", \"BK61\", \"BK63\", \"BK91\", \"BK42\"]\n",
    "days = [\"2023-09-25\",\"2023-09-26\", \"2023-09-27\", \"2023-09-28\", \"2023-09-29\"]"
   ]
  },
  {
   "cell_type": "code",
   "execution_count": 102,
   "metadata": {},
   "outputs": [],
   "source": [
    "flood_days = [\"2023-09-29 10:00:00\", \"2023-09-29 11:00:00\", \"2023-09-29 12:00:00\", \"2023-09-29 13:00:00\", \"2023-09-29 14:00:00\", \"2023-09-29 15:00:00\", \"2023-09-29 16:00:00\"]\n",
    "comparison_hours = [10, 11, 12, 13, 14, 15, 16]"
   ]
  },
  {
   "cell_type": "code",
   "execution_count": null,
   "metadata": {},
   "outputs": [],
   "source": [
    "gtfs_flood = gtfs_speed.query(\"~day_of_week.isin(['Sunday', 'Saturday'])\")\n",
    "gtfs_flood[\"flood\"] = gtfs_flood.combined_datetime.isin(flood_days)\n",
    "gtfs_flood[\"flood_zone\"] = gtfs_flood.ntacode.isin(codes)"
   ]
  },
  {
   "cell_type": "code",
   "execution_count": null,
   "metadata": {},
   "outputs": [],
   "source": [
    "ggplot(gtfs_flood.query(\"boroname == 'Brooklyn'\").sample(100000), aes(x = \"speed_mph\", color = \"flood_zone\")) + geom_density() + facet_wrap(\"~flood\") +  theme(figure_size=(10,10))"
   ]
  },
  {
   "cell_type": "code",
   "execution_count": null,
   "metadata": {},
   "outputs": [],
   "source": [
    "ggplot(gtfs_flood.query(\"hour_of_day.isin(@comparison_hours)\"), aes(x = \"flood_zone\", color = \"flood\", y = \"speed_mph\")) + geom_boxplot() + facet_wrap(\"~boroname\") +theme(figure_size=(10,10)) + ylim(0, 20)"
   ]
  },
  {
   "cell_type": "code",
   "execution_count": null,
   "metadata": {},
   "outputs": [],
   "source": [
    "ggplot(gtfs_flood.sample(100000), aes(x = \"speed_mph\", color = \"flood\")) + geom_density() + facet_wrap(\"~boroname\") +  theme(figure_size=(10,10))"
   ]
  },
  {
   "cell_type": "code",
   "execution_count": null,
   "metadata": {},
   "outputs": [],
   "source": [
    "from plotnine import *\n",
    "ggplot(hourly_speeds.query(\"ntacode.isin(@codes) and date.isin(@days)\"), aes(x = \"combined_datetime\", y = \"gtfs_bus_count\", color = \"ntaname\")) + geom_line() + theme(figure_size=(10,10))"
   ]
  },
  {
   "cell_type": "code",
   "execution_count": null,
   "metadata": {},
   "outputs": [],
   "source": [
    "hourly_speeds.query(\"ntacode.isin(@codes)\").combined_datetime.drop_duplicates()"
   ]
  },
  {
   "cell_type": "code",
   "execution_count": null,
   "metadata": {},
   "outputs": [],
   "source": [
    "gtfs_speed.date.drop_duplicates().sort_values()"
   ]
  },
  {
   "cell_type": "code",
   "execution_count": null,
   "metadata": {},
   "outputs": [],
   "source": [
    "hourly_speeds.query(\"avg_speed_gtfs < 0\")"
   ]
  },
  {
   "cell_type": "code",
   "execution_count": null,
   "metadata": {},
   "outputs": [],
   "source": []
  }
 ],
 "metadata": {
  "kernelspec": {
   "display_name": "TOP-Sprint-lAvM2-mU",
   "language": "python",
   "name": "python3"
  },
  "language_info": {
   "codemirror_mode": {
    "name": "ipython",
    "version": 3
   },
   "file_extension": ".py",
   "mimetype": "text/x-python",
   "name": "python",
   "nbconvert_exporter": "python",
   "pygments_lexer": "ipython3",
   "version": "3.9.18"
  }
 },
 "nbformat": 4,
 "nbformat_minor": 2
}
