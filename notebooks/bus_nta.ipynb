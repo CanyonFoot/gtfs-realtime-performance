{
 "cells": [
  {
   "cell_type": "code",
   "execution_count": null,
   "metadata": {},
   "outputs": [],
   "source": [
    "import os \n",
    "os.chdir(\"/home/canyon/Bus-Weather-Impacts\")\n",
    "from src.utils import *\n",
    "import pandas as pd\n",
    "import os\n",
    "import osmnx as ox\n",
    "import geopandas as gpd\n",
    "import networkx as nx\n",
    "from sklearn.neighbors import KDTree\n",
    "import numpy as np\n",
    "from plotnine import *"
   ]
  },
  {
   "cell_type": "code",
   "execution_count": null,
   "metadata": {},
   "outputs": [],
   "source": [
    "bus_raw = pd.read_parquet(\"/home/data/bus-weather/raw_bus_gtfs_rt_202230917_20230930.parquet\")"
   ]
  },
  {
   "cell_type": "code",
   "execution_count": null,
   "metadata": {},
   "outputs": [],
   "source": [
    "bus_gdf = gpd.GeoDataFrame(bus_raw, geometry=gpd.points_from_xy(bus_raw['vehicle.position.longitude'], bus_raw['vehicle.position.latitude'])).set_crs(4326)"
   ]
  },
  {
   "cell_type": "code",
   "execution_count": null,
   "metadata": {},
   "outputs": [],
   "source": [
    "bus_gdf['date'] = pd.to_datetime(bus_gdf['vehicle.timestamp']).dt.date\n",
    "bus_gdf['hour'] = pd.to_datetime(bus_gdf['vehicle.timestamp']).dt.hour"
   ]
  },
  {
   "cell_type": "code",
   "execution_count": null,
   "metadata": {},
   "outputs": [],
   "source": [
    "bus_gdf_trim = bus_gdf[[\"vehicle.trip.trip_id\", \"vehicle.vehicle.id\", \"date\", \"hour\", \"geometry\"]]"
   ]
  },
  {
   "cell_type": "code",
   "execution_count": null,
   "metadata": {},
   "outputs": [],
   "source": [
    "ntas = gpd.read_file(\"https://data.cityofnewyork.us/resource/9nt8-h7nd.geojson\")\n",
    "ntas = ntas[[\"ntaname\", \"boroname\", \"geometry\"]]"
   ]
  },
  {
   "cell_type": "code",
   "execution_count": null,
   "metadata": {},
   "outputs": [],
   "source": [
    "bus_nta = gpd.sjoin(bus_gdf_trim, ntas, how=\"inner\", op=\"within\")"
   ]
  },
  {
   "cell_type": "code",
   "execution_count": null,
   "metadata": {},
   "outputs": [],
   "source": [
    "bus_nta"
   ]
  },
  {
   "cell_type": "code",
   "execution_count": null,
   "metadata": {},
   "outputs": [],
   "source": [
    "bus_counts = bus_nta.groupby([\"date\", \"hour\", \"ntaname\", \"boroname\"]).agg({\"vehicle.trip.trip_id\" : \"nunique\"}).reset_index().rename({\"vehicle.trip.trip_id\" : \"unique_bus_count\"}, axis = 1)"
   ]
  },
  {
   "cell_type": "code",
   "execution_count": null,
   "metadata": {},
   "outputs": [],
   "source": [
    "bus_counts['combined_datetime'] = pd.to_datetime(bus_counts['date']) + pd.to_timedelta(bus_counts['hour'], unit='h')"
   ]
  },
  {
   "cell_type": "code",
   "execution_count": null,
   "metadata": {},
   "outputs": [],
   "source": [
    "bus_counts.ntaname.drop_duplicates().sample(30)"
   ]
  },
  {
   "cell_type": "code",
   "execution_count": null,
   "metadata": {},
   "outputs": [],
   "source": [
    "ggplot(bus_counts.query(\"ntaname.isin(['East Williamsburg'])\"), aes(y = \"unique_bus_count\", x = \"combined_datetime\", color = \"ntaname\", group = \"ntaname\")) + geom_line()"
   ]
  },
  {
   "cell_type": "code",
   "execution_count": null,
   "metadata": {},
   "outputs": [],
   "source": []
  }
 ],
 "metadata": {
  "kernelspec": {
   "display_name": "TOP-Sprint-lAvM2-mU",
   "language": "python",
   "name": "python3"
  },
  "language_info": {
   "codemirror_mode": {
    "name": "ipython",
    "version": 3
   },
   "file_extension": ".py",
   "mimetype": "text/x-python",
   "name": "python",
   "nbconvert_exporter": "python",
   "pygments_lexer": "ipython3",
   "version": "3.9.18"
  }
 },
 "nbformat": 4,
 "nbformat_minor": 2
}
