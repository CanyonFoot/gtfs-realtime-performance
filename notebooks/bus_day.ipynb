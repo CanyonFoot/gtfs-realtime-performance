{
 "cells": [
  {
   "cell_type": "code",
   "execution_count": 11,
   "metadata": {},
   "outputs": [],
   "source": [
    "import os \n",
    "os.chdir(\"/Users/work/Documents/GitHub/Bus-Weather-Impacts\")\n",
    "from src.utils import *\n",
    "import pandas as pd\n",
    "import os\n",
    "import osmnx as ox\n",
    "import geopandas as gpd\n",
    "import networkx as nx\n",
    "from sklearn.neighbors import KDTree\n",
    "import numpy as np"
   ]
  },
  {
   "cell_type": "code",
   "execution_count": 35,
   "metadata": {},
   "outputs": [],
   "source": [
    "buses = read_parquet_from_tar_gz(\"https://urbantech-public.s3.amazonaws.com/DO-NOT-DELETE-BUSOBSERVATORY-PUBLIC-DATASET/one-system-day.tar.gz\")"
   ]
  },
  {
   "cell_type": "code",
   "execution_count": 18,
   "metadata": {},
   "outputs": [],
   "source": [
    "df = pd.read_parquet('https://urbantech-public.s3.amazonaws.com/pickup/dump_NYC_GTFSRT/20240108_183520_00129_ygreg_ffbd96b2-8380-4c00-adbc-536f2fcb8079')"
   ]
  },
  {
   "cell_type": "code",
   "execution_count": 21,
   "metadata": {},
   "outputs": [
    {
     "data": {
      "text/plain": [
       "vehicle.trip.start_date\n",
       "20231024    137765\n",
       "20230727    131072\n",
       "20231214    126179\n",
       "20231113    125261\n",
       "20231201    122015\n",
       "             ...  \n",
       "20230604     26970\n",
       "20231029     24638\n",
       "20230529     20535\n",
       "20230611     20336\n",
       "20230427     16044\n",
       "Name: count, Length: 257, dtype: int64"
      ]
     },
     "execution_count": 21,
     "metadata": {},
     "output_type": "execute_result"
    }
   ],
   "source": [
    "df['vehicle.trip.start_date'].value_counts()"
   ]
  },
  {
   "cell_type": "code",
   "execution_count": 4,
   "metadata": {},
   "outputs": [],
   "source": [
    "place = \"New York City, New York, USA\"\n",
    "G = ox.graph_from_place(place, network_type='drive')\n",
    "\n",
    "# Convert graph nodes to a DataFrame for KDTree\n",
    "nodes = ox.graph_to_gdfs(G, edges=False).reset_index()\n",
    "tree = KDTree(nodes[['y', 'x']], metric='euclidean')"
   ]
  },
  {
   "cell_type": "code",
   "execution_count": null,
   "metadata": {},
   "outputs": [],
   "source": [
    "# Query the KDTree for nearest node to each point\n",
    "nearest_nodes = tree.query(np.array(buses[['lat', 'lon']]), k=1, return_distance=False)\n",
    "buses['nearest_node'] = nearest_nodes.flatten()\n",
    "\n",
    "# Map node IDs to OSM IDs\n",
    "buses['nearest_osm_id'] = buses['nearest_node'].map(nodes['osmid'])\n",
    "buses = buses.merge(nodes, left_on = \"nearest_osm_id\", right_on = \"osmid\")\n",
    "buses = gpd.GeoDataFrame(buses, geometry='geometry')"
   ]
  },
  {
   "cell_type": "code",
   "execution_count": null,
   "metadata": {},
   "outputs": [],
   "source": [
    "buses[\"time_diff\"] = buses.groupby(\"trip_id\")[\"timestamp\"].diff().dt.total_seconds()\n",
    "buses = buses.query(\"time_diff >= 60\")"
   ]
  },
  {
   "cell_type": "code",
   "execution_count": null,
   "metadata": {},
   "outputs": [],
   "source": [
    "buses_with_nodes = buses.sort_values([\"trip_id\", \"timestamp\"]).drop_duplicates(subset = [\"trip_id\", \"nearest_osm_id\"],  keep = \"first\").to_crs(2263)\n",
    "buses_with_nodes = buses_with_nodes[[\"route\", \"timestamp\", \"trip_id\", \"osmid\", \"vehicle_id\",  \"geometry\"]]\n",
    "buses_with_nodes[\"prev_osmid\"] = buses_with_nodes.groupby(\"trip_id\")[\"osmid\"].shift()"
   ]
  },
  {
   "cell_type": "code",
   "execution_count": null,
   "metadata": {},
   "outputs": [
    {
     "ename": "ValueError",
     "evalue": "invalid literal for int() with base 10: '<NA>'",
     "output_type": "error",
     "traceback": [
      "\u001b[0;31m---------------------------------------------------------------------------\u001b[0m",
      "\u001b[0;31mValueError\u001b[0m                                Traceback (most recent call last)",
      "\u001b[1;32m/Users/canyonfoot/Documents/python_proj/Bus-Weather-Impacts/notebooks/bus_day.ipynb Cell 7\u001b[0m line \u001b[0;36m1\n\u001b[1;32m     <a href='vscode-notebook-cell:/Users/canyonfoot/Documents/python_proj/Bus-Weather-Impacts/notebooks/bus_day.ipynb#X12sZmlsZQ%3D%3D?line=15'>16</a>\u001b[0m nodes_points[\u001b[39m\"\u001b[39m\u001b[39my\u001b[39m\u001b[39m\"\u001b[39m] \u001b[39m=\u001b[39m nodes_points\u001b[39m.\u001b[39mgeometry\u001b[39m.\u001b[39my\n\u001b[1;32m     <a href='vscode-notebook-cell:/Users/canyonfoot/Documents/python_proj/Bus-Weather-Impacts/notebooks/bus_day.ipynb#X12sZmlsZQ%3D%3D?line=16'>17</a>\u001b[0m nodes_points \u001b[39m=\u001b[39m nodes_points[[\u001b[39m\"\u001b[39m\u001b[39mosmid\u001b[39m\u001b[39m\"\u001b[39m, \u001b[39m\"\u001b[39m\u001b[39mx\u001b[39m\u001b[39m\"\u001b[39m, \u001b[39m\"\u001b[39m\u001b[39my\u001b[39m\u001b[39m\"\u001b[39m]]\n\u001b[0;32m---> <a href='vscode-notebook-cell:/Users/canyonfoot/Documents/python_proj/Bus-Weather-Impacts/notebooks/bus_day.ipynb#X12sZmlsZQ%3D%3D?line=18'>19</a>\u001b[0m unqiue_node_pairs \u001b[39m=\u001b[39m buses_with_nodes[[\u001b[39m\"\u001b[39;49m\u001b[39mosmid\u001b[39;49m\u001b[39m\"\u001b[39;49m, \u001b[39m\"\u001b[39;49m\u001b[39mprev_osmid\u001b[39;49m\u001b[39m\"\u001b[39;49m]]\u001b[39m.\u001b[39;49mdropna()\u001b[39m.\u001b[39;49mdrop_duplicates()\u001b[39m.\u001b[39;49mastype(\u001b[39mint\u001b[39;49m)\u001b[39m.\u001b[39mreset_index()\n\u001b[1;32m     <a href='vscode-notebook-cell:/Users/canyonfoot/Documents/python_proj/Bus-Weather-Impacts/notebooks/bus_day.ipynb#X12sZmlsZQ%3D%3D?line=19'>20</a>\u001b[0m unqiue_node_pairs[\u001b[39m\"\u001b[39m\u001b[39mdistance_meters_osm\u001b[39m\u001b[39m\"\u001b[39m] \u001b[39m=\u001b[39m unqiue_node_pairs\u001b[39m.\u001b[39mapply(compute_distance, graph\u001b[39m=\u001b[39mG, axis\u001b[39m=\u001b[39m\u001b[39m1\u001b[39m)\n\u001b[1;32m     <a href='vscode-notebook-cell:/Users/canyonfoot/Documents/python_proj/Bus-Weather-Impacts/notebooks/bus_day.ipynb#X12sZmlsZQ%3D%3D?line=20'>21</a>\u001b[0m unqiue_node_pairs[\u001b[39m\"\u001b[39m\u001b[39mdistance_meters_euclid\u001b[39m\u001b[39m\"\u001b[39m] \u001b[39m=\u001b[39m compute_euclid_dists(unqiue_node_pairs, nodes_points) \u001b[39m/\u001b[39m \u001b[39m3.28\u001b[39m\n",
      "File \u001b[0;32m~/Documents/python_proj/Bus-Weather-Impacts/.venv/lib/python3.9/site-packages/pandas/core/generic.py:6534\u001b[0m, in \u001b[0;36mNDFrame.astype\u001b[0;34m(self, dtype, copy, errors)\u001b[0m\n\u001b[1;32m   6530\u001b[0m     results \u001b[39m=\u001b[39m [ser\u001b[39m.\u001b[39mastype(dtype, copy\u001b[39m=\u001b[39mcopy) \u001b[39mfor\u001b[39;00m _, ser \u001b[39min\u001b[39;00m \u001b[39mself\u001b[39m\u001b[39m.\u001b[39mitems()]\n\u001b[1;32m   6532\u001b[0m \u001b[39melse\u001b[39;00m:\n\u001b[1;32m   6533\u001b[0m     \u001b[39m# else, only a single dtype is given\u001b[39;00m\n\u001b[0;32m-> 6534\u001b[0m     new_data \u001b[39m=\u001b[39m \u001b[39mself\u001b[39;49m\u001b[39m.\u001b[39;49m_mgr\u001b[39m.\u001b[39;49mastype(dtype\u001b[39m=\u001b[39;49mdtype, copy\u001b[39m=\u001b[39;49mcopy, errors\u001b[39m=\u001b[39;49merrors)\n\u001b[1;32m   6535\u001b[0m     res \u001b[39m=\u001b[39m \u001b[39mself\u001b[39m\u001b[39m.\u001b[39m_constructor_from_mgr(new_data, axes\u001b[39m=\u001b[39mnew_data\u001b[39m.\u001b[39maxes)\n\u001b[1;32m   6536\u001b[0m     \u001b[39mreturn\u001b[39;00m res\u001b[39m.\u001b[39m__finalize__(\u001b[39mself\u001b[39m, method\u001b[39m=\u001b[39m\u001b[39m\"\u001b[39m\u001b[39mastype\u001b[39m\u001b[39m\"\u001b[39m)\n",
      "File \u001b[0;32m~/Documents/python_proj/Bus-Weather-Impacts/.venv/lib/python3.9/site-packages/pandas/core/internals/managers.py:414\u001b[0m, in \u001b[0;36mBaseBlockManager.astype\u001b[0;34m(self, dtype, copy, errors)\u001b[0m\n\u001b[1;32m    411\u001b[0m \u001b[39melif\u001b[39;00m using_copy_on_write():\n\u001b[1;32m    412\u001b[0m     copy \u001b[39m=\u001b[39m \u001b[39mFalse\u001b[39;00m\n\u001b[0;32m--> 414\u001b[0m \u001b[39mreturn\u001b[39;00m \u001b[39mself\u001b[39;49m\u001b[39m.\u001b[39;49mapply(\n\u001b[1;32m    415\u001b[0m     \u001b[39m\"\u001b[39;49m\u001b[39mastype\u001b[39;49m\u001b[39m\"\u001b[39;49m,\n\u001b[1;32m    416\u001b[0m     dtype\u001b[39m=\u001b[39;49mdtype,\n\u001b[1;32m    417\u001b[0m     copy\u001b[39m=\u001b[39;49mcopy,\n\u001b[1;32m    418\u001b[0m     errors\u001b[39m=\u001b[39;49merrors,\n\u001b[1;32m    419\u001b[0m     using_cow\u001b[39m=\u001b[39;49musing_copy_on_write(),\n\u001b[1;32m    420\u001b[0m )\n",
      "File \u001b[0;32m~/Documents/python_proj/Bus-Weather-Impacts/.venv/lib/python3.9/site-packages/pandas/core/internals/managers.py:354\u001b[0m, in \u001b[0;36mBaseBlockManager.apply\u001b[0;34m(self, f, align_keys, **kwargs)\u001b[0m\n\u001b[1;32m    352\u001b[0m         applied \u001b[39m=\u001b[39m b\u001b[39m.\u001b[39mapply(f, \u001b[39m*\u001b[39m\u001b[39m*\u001b[39mkwargs)\n\u001b[1;32m    353\u001b[0m     \u001b[39melse\u001b[39;00m:\n\u001b[0;32m--> 354\u001b[0m         applied \u001b[39m=\u001b[39m \u001b[39mgetattr\u001b[39;49m(b, f)(\u001b[39m*\u001b[39;49m\u001b[39m*\u001b[39;49mkwargs)\n\u001b[1;32m    355\u001b[0m     result_blocks \u001b[39m=\u001b[39m extend_blocks(applied, result_blocks)\n\u001b[1;32m    357\u001b[0m out \u001b[39m=\u001b[39m \u001b[39mtype\u001b[39m(\u001b[39mself\u001b[39m)\u001b[39m.\u001b[39mfrom_blocks(result_blocks, \u001b[39mself\u001b[39m\u001b[39m.\u001b[39maxes)\n",
      "File \u001b[0;32m~/Documents/python_proj/Bus-Weather-Impacts/.venv/lib/python3.9/site-packages/pandas/core/internals/blocks.py:616\u001b[0m, in \u001b[0;36mBlock.astype\u001b[0;34m(self, dtype, copy, errors, using_cow)\u001b[0m\n\u001b[1;32m    596\u001b[0m \u001b[39m\u001b[39m\u001b[39m\"\"\"\u001b[39;00m\n\u001b[1;32m    597\u001b[0m \u001b[39mCoerce to the new dtype.\u001b[39;00m\n\u001b[1;32m    598\u001b[0m \n\u001b[0;32m   (...)\u001b[0m\n\u001b[1;32m    612\u001b[0m \u001b[39mBlock\u001b[39;00m\n\u001b[1;32m    613\u001b[0m \u001b[39m\"\"\"\u001b[39;00m\n\u001b[1;32m    614\u001b[0m values \u001b[39m=\u001b[39m \u001b[39mself\u001b[39m\u001b[39m.\u001b[39mvalues\n\u001b[0;32m--> 616\u001b[0m new_values \u001b[39m=\u001b[39m astype_array_safe(values, dtype, copy\u001b[39m=\u001b[39;49mcopy, errors\u001b[39m=\u001b[39;49merrors)\n\u001b[1;32m    618\u001b[0m new_values \u001b[39m=\u001b[39m maybe_coerce_values(new_values)\n\u001b[1;32m    620\u001b[0m refs \u001b[39m=\u001b[39m \u001b[39mNone\u001b[39;00m\n",
      "File \u001b[0;32m~/Documents/python_proj/Bus-Weather-Impacts/.venv/lib/python3.9/site-packages/pandas/core/dtypes/astype.py:238\u001b[0m, in \u001b[0;36mastype_array_safe\u001b[0;34m(values, dtype, copy, errors)\u001b[0m\n\u001b[1;32m    235\u001b[0m     dtype \u001b[39m=\u001b[39m dtype\u001b[39m.\u001b[39mnumpy_dtype\n\u001b[1;32m    237\u001b[0m \u001b[39mtry\u001b[39;00m:\n\u001b[0;32m--> 238\u001b[0m     new_values \u001b[39m=\u001b[39m astype_array(values, dtype, copy\u001b[39m=\u001b[39;49mcopy)\n\u001b[1;32m    239\u001b[0m \u001b[39mexcept\u001b[39;00m (\u001b[39mValueError\u001b[39;00m, \u001b[39mTypeError\u001b[39;00m):\n\u001b[1;32m    240\u001b[0m     \u001b[39m# e.g. _astype_nansafe can fail on object-dtype of strings\u001b[39;00m\n\u001b[1;32m    241\u001b[0m     \u001b[39m#  trying to convert to float\u001b[39;00m\n\u001b[1;32m    242\u001b[0m     \u001b[39mif\u001b[39;00m errors \u001b[39m==\u001b[39m \u001b[39m\"\u001b[39m\u001b[39mignore\u001b[39m\u001b[39m\"\u001b[39m:\n",
      "File \u001b[0;32m~/Documents/python_proj/Bus-Weather-Impacts/.venv/lib/python3.9/site-packages/pandas/core/dtypes/astype.py:183\u001b[0m, in \u001b[0;36mastype_array\u001b[0;34m(values, dtype, copy)\u001b[0m\n\u001b[1;32m    180\u001b[0m     values \u001b[39m=\u001b[39m values\u001b[39m.\u001b[39mastype(dtype, copy\u001b[39m=\u001b[39mcopy)\n\u001b[1;32m    182\u001b[0m \u001b[39melse\u001b[39;00m:\n\u001b[0;32m--> 183\u001b[0m     values \u001b[39m=\u001b[39m _astype_nansafe(values, dtype, copy\u001b[39m=\u001b[39;49mcopy)\n\u001b[1;32m    185\u001b[0m \u001b[39m# in pandas we don't store numpy str dtypes, so convert to object\u001b[39;00m\n\u001b[1;32m    186\u001b[0m \u001b[39mif\u001b[39;00m \u001b[39misinstance\u001b[39m(dtype, np\u001b[39m.\u001b[39mdtype) \u001b[39mand\u001b[39;00m \u001b[39missubclass\u001b[39m(values\u001b[39m.\u001b[39mdtype\u001b[39m.\u001b[39mtype, \u001b[39mstr\u001b[39m):\n",
      "File \u001b[0;32m~/Documents/python_proj/Bus-Weather-Impacts/.venv/lib/python3.9/site-packages/pandas/core/dtypes/astype.py:134\u001b[0m, in \u001b[0;36m_astype_nansafe\u001b[0;34m(arr, dtype, copy, skipna)\u001b[0m\n\u001b[1;32m    130\u001b[0m     \u001b[39mraise\u001b[39;00m \u001b[39mValueError\u001b[39;00m(msg)\n\u001b[1;32m    132\u001b[0m \u001b[39mif\u001b[39;00m copy \u001b[39mor\u001b[39;00m arr\u001b[39m.\u001b[39mdtype \u001b[39m==\u001b[39m \u001b[39mobject\u001b[39m \u001b[39mor\u001b[39;00m dtype \u001b[39m==\u001b[39m \u001b[39mobject\u001b[39m:\n\u001b[1;32m    133\u001b[0m     \u001b[39m# Explicit copy, or required since NumPy can't view from / to object.\u001b[39;00m\n\u001b[0;32m--> 134\u001b[0m     \u001b[39mreturn\u001b[39;00m arr\u001b[39m.\u001b[39;49mastype(dtype, copy\u001b[39m=\u001b[39;49m\u001b[39mTrue\u001b[39;49;00m)\n\u001b[1;32m    136\u001b[0m \u001b[39mreturn\u001b[39;00m arr\u001b[39m.\u001b[39mastype(dtype, copy\u001b[39m=\u001b[39mcopy)\n",
      "\u001b[0;31mValueError\u001b[0m: invalid literal for int() with base 10: '<NA>'"
     ]
    }
   ],
   "source": [
    "def compute_distance(row, graph):\n",
    "    try:\n",
    "        return nx.shortest_path_length(graph, row['prev_osmid'], row['osmid'], weight='length')\n",
    "    except nx.NetworkXNoPath:\n",
    "        return float('nan')\n",
    "    \n",
    "def compute_euclid_dists(node_pairs, nodes_points):\n",
    "    node_pairs = node_pairs.merge(nodes_points, left_on = \"osmid\", right_on = \"osmid\", how = \"left\").merge(nodes_points, right_on = \"osmid\", left_on = \"prev_osmid\", how = \"left\", suffixes = [\"curr\", \"prev\"])\n",
    "    node_pairs[\"x_diff_sq\"] = (node_pairs[\"xcurr\"] - node_pairs[\"xprev\"])**2\n",
    "    node_pairs[\"y_diff_sq\"] = (node_pairs[\"ycurr\"] - node_pairs[\"yprev\"])**2\n",
    "\n",
    "    return (node_pairs[\"x_diff_sq\"] + node_pairs[\"y_diff_sq\"]) ** (1/2)\n",
    "\n",
    "nodes_points = nodes.to_crs(2263)\n",
    "nodes_points[\"x\"] = nodes_points.geometry.x\n",
    "nodes_points[\"y\"] = nodes_points.geometry.y\n",
    "nodes_points = nodes_points[[\"osmid\", \"x\", \"y\"]]\n",
    "\n",
    "unqiue_node_pairs = buses_with_nodes[[\"osmid\", \"prev_osmid\"]].dropna().drop_duplicates().astype(\"Int64\").reset_index()\n",
    "unqiue_node_pairs[\"distance_meters_osm\"] = unqiue_node_pairs.apply(compute_distance, graph=G, axis=1)\n",
    "unqiue_node_pairs[\"distance_meters_euclid\"] = compute_euclid_dists(unqiue_node_pairs, nodes_points) / 3.28\n",
    "\n",
    "unqiue_node_pairs.to_parquet(\"data/node_pairs.parquet\")\n",
    "\n",
    "unique_node_pairs = pd.read_parquet(\"data/node_pairs.parquet\")\n",
    "buses_with_nodes = buses_with_nodes.merge(unique_node_pairs, how = \"left\")\n",
    "buses_with_nodes[\"osmid\"] = buses_with_nodes[\"osmid\"].astype(str)\n",
    "buses_with_nodes[\"prev_osmid\"] = buses_with_nodes[\"prev_osmid\"].astype(\"Int64\").astype(str)"
   ]
  },
  {
   "cell_type": "code",
   "execution_count": 31,
   "metadata": {},
   "outputs": [],
   "source": [
    "buses_with_nodes[\"time_diff_seconds\"] = buses_with_nodes.groupby(\"trip_id\")[\"timestamp\"].diff().dt.total_seconds()\n",
    "buses_with_nodes[\"speed_mph_osm\"] =  (buses_with_nodes[\"distance_meters_osm\"] / 1609) / (buses_with_nodes[\"time_diff_seconds\"] / 3600)\n",
    "buses_with_nodes[\"speed_mph_euclid\"] =  (buses_with_nodes[\"distance_meters_euclid\"] / 1609) / (buses_with_nodes[\"time_diff_seconds\"] / 3600)"
   ]
  },
  {
   "cell_type": "code",
   "execution_count": 33,
   "metadata": {},
   "outputs": [
    {
     "data": {
      "text/html": [
       "<div>\n",
       "<style scoped>\n",
       "    .dataframe tbody tr th:only-of-type {\n",
       "        vertical-align: middle;\n",
       "    }\n",
       "\n",
       "    .dataframe tbody tr th {\n",
       "        vertical-align: top;\n",
       "    }\n",
       "\n",
       "    .dataframe thead th {\n",
       "        text-align: right;\n",
       "    }\n",
       "</style>\n",
       "<table border=\"1\" class=\"dataframe\">\n",
       "  <thead>\n",
       "    <tr style=\"text-align: right;\">\n",
       "      <th></th>\n",
       "      <th>osmid</th>\n",
       "      <th>prev_osmid</th>\n",
       "      <th>distance_meters_osm</th>\n",
       "      <th>distance_meters_euclid</th>\n",
       "    </tr>\n",
       "  </thead>\n",
       "  <tbody>\n",
       "    <tr>\n",
       "      <th>754333</th>\n",
       "      <td>42971112</td>\n",
       "      <td>42971120</td>\n",
       "      <td>410.265</td>\n",
       "      <td>NaN</td>\n",
       "    </tr>\n",
       "    <tr>\n",
       "      <th>1567424</th>\n",
       "      <td>42962132</td>\n",
       "      <td>42971112</td>\n",
       "      <td>570.504</td>\n",
       "      <td>NaN</td>\n",
       "    </tr>\n",
       "    <tr>\n",
       "      <th>360648</th>\n",
       "      <td>410544431</td>\n",
       "      <td>42965719</td>\n",
       "      <td>626.869</td>\n",
       "      <td>NaN</td>\n",
       "    </tr>\n",
       "    <tr>\n",
       "      <th>118352</th>\n",
       "      <td>42947856</td>\n",
       "      <td>42944036</td>\n",
       "      <td>699.414</td>\n",
       "      <td>281.108829</td>\n",
       "    </tr>\n",
       "    <tr>\n",
       "      <th>1801165</th>\n",
       "      <td>42951005</td>\n",
       "      <td>42947856</td>\n",
       "      <td>445.257</td>\n",
       "      <td>NaN</td>\n",
       "    </tr>\n",
       "    <tr>\n",
       "      <th>...</th>\n",
       "      <td>...</td>\n",
       "      <td>...</td>\n",
       "      <td>...</td>\n",
       "      <td>...</td>\n",
       "    </tr>\n",
       "    <tr>\n",
       "      <th>1323207</th>\n",
       "      <td>42440323</td>\n",
       "      <td>42445867</td>\n",
       "      <td>248.212</td>\n",
       "      <td>NaN</td>\n",
       "    </tr>\n",
       "    <tr>\n",
       "      <th>1130478</th>\n",
       "      <td>447760277</td>\n",
       "      <td>42986987</td>\n",
       "      <td>976.978</td>\n",
       "      <td>NaN</td>\n",
       "    </tr>\n",
       "    <tr>\n",
       "      <th>1866765</th>\n",
       "      <td>8264070984</td>\n",
       "      <td>42978105</td>\n",
       "      <td>797.705</td>\n",
       "      <td>NaN</td>\n",
       "    </tr>\n",
       "    <tr>\n",
       "      <th>83261</th>\n",
       "      <td>410544474</td>\n",
       "      <td>42964909</td>\n",
       "      <td>3852.038</td>\n",
       "      <td>483.940807</td>\n",
       "    </tr>\n",
       "    <tr>\n",
       "      <th>734758</th>\n",
       "      <td>42944869</td>\n",
       "      <td>42978304</td>\n",
       "      <td>4862.734</td>\n",
       "      <td>NaN</td>\n",
       "    </tr>\n",
       "  </tbody>\n",
       "</table>\n",
       "<p>210498 rows × 4 columns</p>\n",
       "</div>"
      ],
      "text/plain": [
       "              osmid  prev_osmid  distance_meters_osm  distance_meters_euclid\n",
       "754333     42971112    42971120              410.265                     NaN\n",
       "1567424    42962132    42971112              570.504                     NaN\n",
       "360648    410544431    42965719              626.869                     NaN\n",
       "118352     42947856    42944036              699.414              281.108829\n",
       "1801165    42951005    42947856              445.257                     NaN\n",
       "...             ...         ...                  ...                     ...\n",
       "1323207    42440323    42445867              248.212                     NaN\n",
       "1130478   447760277    42986987              976.978                     NaN\n",
       "1866765  8264070984    42978105              797.705                     NaN\n",
       "83261     410544474    42964909             3852.038              483.940807\n",
       "734758     42944869    42978304             4862.734                     NaN\n",
       "\n",
       "[210498 rows x 4 columns]"
      ]
     },
     "execution_count": 33,
     "metadata": {},
     "output_type": "execute_result"
    }
   ],
   "source": [
    "unqiue_node_pairs"
   ]
  },
  {
   "cell_type": "code",
   "execution_count": 20,
   "metadata": {},
   "outputs": [
    {
     "data": {
      "text/plain": [
       "0          409.824293\n",
       "1          401.598082\n",
       "2          347.602321\n",
       "3          517.578622\n",
       "4          446.421753\n",
       "             ...     \n",
       "210493     184.244547\n",
       "210494     942.196053\n",
       "210495     788.538731\n",
       "210496    3570.562742\n",
       "210497    4228.918867\n",
       "Length: 210498, dtype: float64"
      ]
     },
     "execution_count": 20,
     "metadata": {},
     "output_type": "execute_result"
    }
   ],
   "source": [
    "compute_euclid_dists(unqiue_node_pairs, nodes_points) / 3.28"
   ]
  },
  {
   "cell_type": "code",
   "execution_count": null,
   "metadata": {},
   "outputs": [],
   "source": [
    "nodes.query(\"osmid == 42949762 | osmid == 598367717\")"
   ]
  },
  {
   "cell_type": "code",
   "execution_count": null,
   "metadata": {},
   "outputs": [],
   "source": [
    "buses_with_nodes.query(\"speed_mph_osm > 100\")"
   ]
  },
  {
   "cell_type": "code",
   "execution_count": null,
   "metadata": {},
   "outputs": [],
   "source": [
    "buses_with_nodes['distance_diff_feet'] = buses_with_nodes.groupby('trip_id').apply(calculate_distances).reset_index(level=0, drop=True)"
   ]
  },
  {
   "cell_type": "code",
   "execution_count": null,
   "metadata": {},
   "outputs": [],
   "source": [
    "buses.query(\"route == 'M96'\").plot()"
   ]
  },
  {
   "cell_type": "code",
   "execution_count": null,
   "metadata": {},
   "outputs": [],
   "source": []
  },
  {
   "cell_type": "code",
   "execution_count": null,
   "metadata": {},
   "outputs": [],
   "source": [
    "data.head(50)"
   ]
  },
  {
   "cell_type": "code",
   "execution_count": null,
   "metadata": {},
   "outputs": [],
   "source": [
    "plot_osm_path(start, end)"
   ]
  },
  {
   "cell_type": "code",
   "execution_count": null,
   "metadata": {},
   "outputs": [],
   "source": [
    "path_nodes = nx.shortest_path(G, 598367717, 42949762)\n"
   ]
  },
  {
   "cell_type": "code",
   "execution_count": null,
   "metadata": {},
   "outputs": [],
   "source": [
    "import contextily as ctx\n",
    "import matplotlib.pyplot as plt\n",
    "\n",
    "fig, ax = plt.subplots(figsize=(10, 10))\n",
    "nodes.query(\"osmid.isin(@path_nodes)\").to_crs(3857).plot(ax = ax)\n",
    "\n",
    "ctx.add_basemap(ax, source=ctx.providers.OpenStreetMap.Mapnik)\n",
    "\n",
    "plt.show()\n"
   ]
  },
  {
   "cell_type": "code",
   "execution_count": null,
   "metadata": {},
   "outputs": [],
   "source": [
    "data_url = \"https://ndownloader.figshare.com/files/20232174\"\n",
    "db = gpd.read_file(data_url)\n",
    "ax = db.plot(color=\"red\", figsize=(9, 9))\n",
    "ctx.add_basemap(ax, crs=db.crs.to_string())\n"
   ]
  },
  {
   "cell_type": "code",
   "execution_count": null,
   "metadata": {},
   "outputs": [],
   "source": []
  }
 ],
 "metadata": {
  "kernelspec": {
   "display_name": "TOP-Sprint-lAvM2-mU",
   "language": "python",
   "name": "python3"
  },
  "language_info": {
   "codemirror_mode": {
    "name": "ipython",
    "version": 3
   },
   "file_extension": ".py",
   "mimetype": "text/x-python",
   "name": "python",
   "nbconvert_exporter": "python",
   "pygments_lexer": "ipython3",
   "version": "3.9.18"
  }
 },
 "nbformat": 4,
 "nbformat_minor": 2
}
