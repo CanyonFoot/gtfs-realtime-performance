{
 "cells": [
  {
   "cell_type": "code",
   "execution_count": 2,
   "metadata": {},
   "outputs": [],
   "source": [
    "import os \n",
    "os.chdir(\"/home/canyon/Bus-Weather-Impacts\")\n",
    "from src.utils import *\n",
    "import pandas as pd\n",
    "import os\n",
    "import osmnx as ox\n",
    "import numpy as np\n",
    "import geopandas as gpd\n",
    "import networkx as nx\n",
    "from sklearn.neighbors import KDTree\n",
    "import numpy as np\n",
    "pd.options.mode.chained_assignment = None\n",
    "pd.set_option('display.float_format', '{:.02f}'.format)\n",
    "from geopy.distance import geodesic\n",
    "from shapely.geometry import Point\n",
    "calculated_pair_path = \"data/node_pairs.parquet\""
   ]
  },
  {
   "cell_type": "code",
   "execution_count": 4,
   "metadata": {},
   "outputs": [],
   "source": [
    "def compute_distance(row, graph):\n",
    "    try:\n",
    "        return nx.shortest_path_length(graph, row['prev_osmid'], row['osmid'], weight='length')\n",
    "    except nx.NetworkXNoPath:\n",
    "        return None\n",
    "    \n",
    "def compute_path(row, graph):\n",
    "    try:\n",
    "        return nx.shortest_path(graph, row['prev_osmid'], row['osmid'], weight='length')\n",
    "    except nx.NetworkXNoPath:\n",
    "        return None\n",
    "    \n",
    "def compute_euclid_dists(node_pairs, nodes_points):\n",
    "    nodes_points = nodes_points.to_crs(2263)\n",
    "    nodes_points[\"x\"] = nodes_points[\"geometry\"].x\n",
    "    nodes_points[\"y\"] = nodes_points[\"geometry\"].y\n",
    "\n",
    "    node_pairs = node_pairs.merge(nodes_points, left_on = \"osmid\", right_on = \"osmid\", how = \"left\").merge(nodes_points, right_on = \"osmid\", left_on = \"prev_osmid\", how = \"left\", suffixes = [\"curr\", \"prev\"])\n",
    "    node_pairs[\"x_diff_sq\"] = (node_pairs[\"xcurr\"] - node_pairs[\"xprev\"])**2\n",
    "    node_pairs[\"y_diff_sq\"] = (node_pairs[\"ycurr\"] - node_pairs[\"yprev\"])**2\n",
    "\n",
    "    return (node_pairs[\"x_diff_sq\"] + node_pairs[\"y_diff_sq\"]) ** (1/2) / 3.28\n",
    "\n",
    "def compute_euclid_dists(node_pairs, nodes_points):\n",
    "    nodes_points = nodes_points.to_crs(2263)\n",
    "    nodes_points[\"x\"] = nodes_points[\"geometry\"].x\n",
    "    nodes_points[\"y\"] = nodes_points[\"geometry\"].y\n",
    "\n",
    "    node_pairs = node_pairs.merge(nodes_points, left_on = \"osmid\", right_on = \"osmid\", how = \"left\").merge(nodes_points, right_on = \"osmid\", left_on = \"prev_osmid\", how = \"left\", suffixes = [\"curr\", \"prev\"])\n",
    "    node_pairs[\"x_diff_sq\"] = (node_pairs[\"xcurr\"] - node_pairs[\"xprev\"])**2\n",
    "    node_pairs[\"y_diff_sq\"] = (node_pairs[\"ycurr\"] - node_pairs[\"yprev\"])**2\n",
    "\n",
    "    return (node_pairs[\"x_diff_sq\"] + node_pairs[\"y_diff_sq\"]) ** (1/2) / 3.28\n",
    "\n",
    "def precalculate_node_pair_distances(node_pair_df, calculated_pair_path, G, nodes):\n",
    "    try:\n",
    "        calculated_pairs = pd.read_parquet(calculated_pair_path)\n",
    "    except:\n",
    "        print(\"No pre-calulated pairs found\")\n",
    "        calculated_pairs = pd.DataFrame(columns = [\"osmid\", \"prev_osmid\", \"distance_osm\", \"distance_euclid\", \"shortest_path\", \"dist_ratio\"])\n",
    "\n",
    "    node_pair_df = node_pair_df.drop_duplicates().dropna()\n",
    "    node_pair_df = node_pair_df.merge(calculated_pairs, on=[\"osmid\", \"prev_osmid\"], how=\"outer\")\n",
    "    pairs_to_calc = node_pair_df.query(\"distance_euclid.isna()\").reset_index(drop = True)\n",
    "    print(pairs_to_calc.shape)\n",
    "    \n",
    "    if pairs_to_calc.shape[0] > 0:\n",
    "        pairs_to_calc[\"distance_osm\"] = pairs_to_calc.apply(compute_distance, graph=G, axis=1)\n",
    "        pairs_to_calc[\"distance_euclid\"] = compute_euclid_dists(pairs_to_calc, nodes) \n",
    "        pairs_to_calc[\"shortest_path\"] = pairs_to_calc.apply(compute_path, graph=G, axis=1)\n",
    "\n",
    "        pairs_to_calc[\"dist_ratio\"] = pairs_to_calc[\"distance_euclid\"] / pairs_to_calc[\"distance_osm\"]\n",
    "\n",
    "        calculated_pairs = pd.concat([calculated_pairs, pairs_to_calc])\n",
    "        calculated_pairs.to_parquet(calculated_pair_path)\n",
    "        print(f\"Wrote calculated pairs to {calculated_pair_path}\")\n",
    "    else:\n",
    "        print(\"No new pairs to calculate\")\n",
    "\n",
    "def prep_buses_nodes(buses_with_nodes, max_distance_to_node):\n",
    "\n",
    "    buses_with_nodes = buses_with_nodes.sort_values([\"trip_id\", \"timestamp\"]).drop_duplicates(subset = [\"trip_id\", \"osmid\"],  keep = \"first\").to_crs(2263)\n",
    "    buses_with_nodes = buses_with_nodes[[\"route\", \"timestamp\", \"trip_id\", \"osmid\", \"vehicle_id\", \"distance_to_node\", \"geometry\"]]\n",
    "    buses_with_nodes[\"prev_osmid\"] = buses_with_nodes.groupby(\"trip_id\")[\"osmid\"].shift(1)\n",
    "    buses_with_nodes[\"next_osmid\"] = buses_with_nodes.groupby(\"trip_id\")[\"osmid\"].shift(-1)\n",
    "\n",
    "    buses_with_nodes[\"prev_osmid\"] = buses_with_nodes[\"prev_osmid\"].astype(float)\n",
    "    buses_with_nodes[\"osmid\"] = buses_with_nodes[\"osmid\"].astype(float)\n",
    "\n",
    "    buses_with_nodes = buses_with_nodes.query(\"distance_to_node < @max_distance_to_node\")\n",
    "\n",
    "    return buses_with_nodes\n",
    "\n",
    "def calculate_segment_speeds():\n",
    "    pass\n",
    "\n",
    "def explode_route_segments():\n",
    "    pass\n",
    "\n",
    "def drop_wrong_nodes():\n",
    "    pass\n",
    "\n",
    "def tag_feed_with_nodes(buses, tree, nodes, types_to_include = [np.NaN, \"traffic_signals\", \"stop\"]):\n",
    "    nodes = nodes[nodes[\"highway\"].isin(types_to_include)]\n",
    "    nearest_nodes = tree.query(np.array(buses[['lat', 'lon']]), k=1, return_distance=False)\n",
    "    buses['nearest_node'] = nearest_nodes.flatten()\n",
    "\n",
    "    # Map node IDs to OSM IDs\n",
    "    buses['nearest_osm_id'] = buses['nearest_node'].map(nodes['osmid'])\n",
    "    buses = buses.merge(nodes, left_on = \"nearest_osm_id\", right_on = \"osmid\")\n",
    "    buses = gpd.GeoDataFrame(buses, geometry='geometry')\n",
    "\n",
    "    return buses\n",
    "\n",
    "def get_node_data(place = \"New York City, New York, USA\"):\n",
    "    G = ox.graph_from_place(place, network_type='drive')\n",
    "\n",
    "    # Convert graph nodes to a DataFrame for KDTree\n",
    "    nodes = ox.graph_to_gdfs(G, edges=False).reset_index()\n",
    "    tree = KDTree(nodes[['y', 'x']], metric='euclidean')\n",
    "\n",
    "    return tree, nodes, G\n",
    "\n",
    "def prep_coords(df, lat_col, lon_col):\n",
    "\n",
    "    df['geometry'] = df.apply(lambda row: Point(row[lon_col], row[lat_col]), axis=1)\n",
    "    gdf = gpd.GeoDataFrame(df, geometry='geometry').set_crs(4326)\n",
    "\n",
    "    gdf[\"planar_x\"] = gdf.to_crs(2263).geometry.x\n",
    "    gdf[\"planar_y\"] = gdf.to_crs(2263).geometry.y\n",
    "    \n",
    "    gdf = gdf.drop('geometry', axis = 1)\n",
    "    return gdf\n",
    "\n",
    "def calculate_distance_to_node(buses_with_nodes):\n",
    "\n",
    "    out = ((buses_with_nodes.to_crs(2263).geometry.x - buses_with_nodes[\"planar_x\"])**2 + (buses_with_nodes.to_crs(2263).geometry.y - buses_with_nodes[\"planar_y\"])**2)**(1/2)\n",
    "\n",
    "    return out\n",
    "\n",
    "def calculate_speeds(prepped_trips, calculated_pair_path = \"data/node_pairs.parquet\", minimum_time_diff = 45):\n",
    "    \n",
    "    node_pair_dists = pd.read_parquet(calculated_pair_path)\n",
    "\n",
    "    prepped_trips[\"time_diff_seconds\"] = prepped_trips.groupby(\"trip_id\")[\"timestamp\"].diff().dt.total_seconds()\n",
    "    prepped_trips = prepped_trips.query(\"time_diff_seconds >= @minimum_time_diff\")\n",
    "\n",
    "    buses_with_distances = prepped_trips.merge(node_pair_dists)\n",
    "    buses_with_distances[\"speed_osm\"] = (buses_with_distances[\"distance_osm\"] / 1609) / (buses_with_distances[\"time_diff_seconds\"] / 3600)\n",
    "    buses_with_distances[\"speed_euclid\"] = (buses_with_distances[\"distance_euclid\"] / 1609) / (buses_with_distances[\"time_diff_seconds\"] / 3600)\n",
    "    \n",
    "    return buses_with_distances\n",
    "\n",
    "def explode_edges(row):\n",
    "    try:\n",
    "        nodes = row['shortest_path']\n",
    "        idxs = [int(row['index'])]*(len(nodes)-1)\n",
    "        osmids = nodes[1:len(nodes)]\n",
    "        prev_osmids = nodes[0:len(nodes)-1]        \n",
    "        d = pd.DataFrame(data={'idx':idxs,'from':prev_osmids,'to':osmids})\n",
    "    except:\n",
    "        d = pd.DataFrame(data={'idx':[pd.NA],'from':[pd.NA],'to':[pd.NA]})\n",
    "    \n",
    "    return d\n"
   ]
  },
  {
   "cell_type": "code",
   "execution_count": 7,
   "metadata": {},
   "outputs": [],
   "source": [
    "GTFS_PATH = \"https://urbantech-public.s3.amazonaws.com/DO-NOT-DELETE-BUSOBSERVATORY-PUBLIC-DATASET/one-system-day.tar.gz\"\n",
    "CALCULATED_PAIR_PATH = \"data/node_pairs.parquet\"\n",
    "OUT_PATH = \"data/buses_with_segmented.parquet\""
   ]
  },
  {
   "cell_type": "code",
   "execution_count": 9,
   "metadata": {},
   "outputs": [
    {
     "data": {
      "text/plain": [
       "Index(['route', 'timestamp', 'route_long', 'direction', 'service_date',\n",
       "       'trip_id', 'gtfs_shape_id', 'route_short', 'agency', 'origin_id',\n",
       "       'destination_name', 'next_stop_id', 'next_stop_eta',\n",
       "       'next_stop_d_along_route', 'next_stop_d', 'lat', 'lon', 'bearing',\n",
       "       'progress_rate', 'vehicle_id', 'gtfs_block_id', 'passenger_count',\n",
       "       'progress_status'],\n",
       "      dtype='object')"
      ]
     },
     "execution_count": 9,
     "metadata": {},
     "output_type": "execute_result"
    }
   ],
   "source": [
    "read_parquet_from_tar_gz(GTFS_PATH).columns"
   ]
  },
  {
   "cell_type": "code",
   "execution_count": 6,
   "metadata": {},
   "outputs": [],
   "source": [
    "tree, nodes, G = get_node_data()"
   ]
  },
  {
   "cell_type": "code",
   "execution_count": 7,
   "metadata": {},
   "outputs": [],
   "source": [
    "def process_gtfs_rt_main(tree, nodes, G, gtfs_path, calculated_pair_path, out_path):\n",
    "\n",
    "    print(\"Preprocssing bus data\")\n",
    "    buses = read_parquet_from_tar_gz(gtfs_path)\n",
    "    buses = prep_coords(buses, 'lat', 'lon')\n",
    "\n",
    "    print(\"Tagging bus locations with nodes\")\n",
    "    buses_with_nodes = tag_feed_with_nodes(buses, tree, nodes)\n",
    "    buses_with_nodes[\"distance_to_node\"] = calculate_distance_to_node(buses_with_nodes)\n",
    "\n",
    "    print(\"Calculating distance pairs\")\n",
    "    prepped_trips = prep_buses_nodes(buses_with_nodes, max_distance_to_node = 150)\n",
    "    node_pair_df = prepped_trips[[\"osmid\", \"prev_osmid\"]]\n",
    "\n",
    "    precalculate_node_pair_distances(node_pair_df, calculated_pair_path, G, nodes)\n",
    "    buses_with_speeds = calculate_speeds(prepped_trips).reset_index()\n",
    "\n",
    "    print(\"Exploding edges\")\n",
    "    dfs = []\n",
    "    for i,row in buses_with_speeds.iterrows():\n",
    "        dfs.append(explode_edges(row))\n",
    "\n",
    "    segment_speeds = pd.concat(dfs)\n",
    "    bus_speed_segemented = buses_with_speeds.merge(segment_speeds, left_on = \"index\", right_on = \"idx\").drop([\"index\"], axis = 1)\n",
    "\n",
    "    print(\"Writing to parquet\")\n",
    "    bus_speed_segemented.to_parquet(out_path)"
   ]
  },
  {
   "cell_type": "code",
   "execution_count": 8,
   "metadata": {},
   "outputs": [
    {
     "name": "stdout",
     "output_type": "stream",
     "text": [
      "Preprocssing bus data\n"
     ]
    },
    {
     "ename": "KeyboardInterrupt",
     "evalue": "",
     "output_type": "error",
     "traceback": [
      "\u001b[0;31m---------------------------------------------------------------------------\u001b[0m",
      "\u001b[0;31mKeyboardInterrupt\u001b[0m                         Traceback (most recent call last)",
      "Cell \u001b[0;32mIn[8], line 1\u001b[0m\n\u001b[0;32m----> 1\u001b[0m \u001b[43mprocess_gtfs_rt_main\u001b[49m\u001b[43m(\u001b[49m\u001b[43mtree\u001b[49m\u001b[43m,\u001b[49m\u001b[43m \u001b[49m\u001b[43mnodes\u001b[49m\u001b[43m,\u001b[49m\u001b[43m \u001b[49m\u001b[43mG\u001b[49m\u001b[43m,\u001b[49m\u001b[43m \u001b[49m\u001b[43mGTFS_PATH\u001b[49m\u001b[43m,\u001b[49m\u001b[43m \u001b[49m\u001b[43mCALCULATED_PAIR_PATH\u001b[49m\u001b[43m,\u001b[49m\u001b[43m \u001b[49m\u001b[43mOUT_PATH\u001b[49m\u001b[43m)\u001b[49m\n",
      "Cell \u001b[0;32mIn[7], line 5\u001b[0m, in \u001b[0;36mprocess_gtfs_rt_main\u001b[0;34m(tree, nodes, G, gtfs_path, calculated_pair_path, out_path)\u001b[0m\n\u001b[1;32m      3\u001b[0m \u001b[38;5;28mprint\u001b[39m(\u001b[38;5;124m\"\u001b[39m\u001b[38;5;124mPreprocssing bus data\u001b[39m\u001b[38;5;124m\"\u001b[39m)\n\u001b[1;32m      4\u001b[0m buses \u001b[38;5;241m=\u001b[39m read_parquet_from_tar_gz(gtfs_path)\n\u001b[0;32m----> 5\u001b[0m buses \u001b[38;5;241m=\u001b[39m \u001b[43mprep_coords\u001b[49m\u001b[43m(\u001b[49m\u001b[43mbuses\u001b[49m\u001b[43m,\u001b[49m\u001b[43m \u001b[49m\u001b[38;5;124;43m'\u001b[39;49m\u001b[38;5;124;43mlat\u001b[39;49m\u001b[38;5;124;43m'\u001b[39;49m\u001b[43m,\u001b[49m\u001b[43m \u001b[49m\u001b[38;5;124;43m'\u001b[39;49m\u001b[38;5;124;43mlon\u001b[39;49m\u001b[38;5;124;43m'\u001b[39;49m\u001b[43m)\u001b[49m\n\u001b[1;32m      7\u001b[0m \u001b[38;5;28mprint\u001b[39m(\u001b[38;5;124m\"\u001b[39m\u001b[38;5;124mTagging bus locations with nodes\u001b[39m\u001b[38;5;124m\"\u001b[39m)\n\u001b[1;32m      8\u001b[0m buses_with_nodes \u001b[38;5;241m=\u001b[39m tag_feed_with_nodes(buses, tree, nodes)\n",
      "Cell \u001b[0;32mIn[4], line 106\u001b[0m, in \u001b[0;36mprep_coords\u001b[0;34m(df, lat_col, lon_col)\u001b[0m\n\u001b[1;32m    104\u001b[0m \u001b[38;5;28;01mdef\u001b[39;00m \u001b[38;5;21mprep_coords\u001b[39m(df, lat_col, lon_col):\n\u001b[0;32m--> 106\u001b[0m     df[\u001b[38;5;124m'\u001b[39m\u001b[38;5;124mgeometry\u001b[39m\u001b[38;5;124m'\u001b[39m] \u001b[38;5;241m=\u001b[39m \u001b[43mdf\u001b[49m\u001b[38;5;241;43m.\u001b[39;49m\u001b[43mapply\u001b[49m\u001b[43m(\u001b[49m\u001b[38;5;28;43;01mlambda\u001b[39;49;00m\u001b[43m \u001b[49m\u001b[43mrow\u001b[49m\u001b[43m:\u001b[49m\u001b[43m \u001b[49m\u001b[43mPoint\u001b[49m\u001b[43m(\u001b[49m\u001b[43mrow\u001b[49m\u001b[43m[\u001b[49m\u001b[43mlon_col\u001b[49m\u001b[43m]\u001b[49m\u001b[43m,\u001b[49m\u001b[43m \u001b[49m\u001b[43mrow\u001b[49m\u001b[43m[\u001b[49m\u001b[43mlat_col\u001b[49m\u001b[43m]\u001b[49m\u001b[43m)\u001b[49m\u001b[43m,\u001b[49m\u001b[43m \u001b[49m\u001b[43maxis\u001b[49m\u001b[38;5;241;43m=\u001b[39;49m\u001b[38;5;241;43m1\u001b[39;49m\u001b[43m)\u001b[49m\n\u001b[1;32m    107\u001b[0m     gdf \u001b[38;5;241m=\u001b[39m gpd\u001b[38;5;241m.\u001b[39mGeoDataFrame(df, geometry\u001b[38;5;241m=\u001b[39m\u001b[38;5;124m'\u001b[39m\u001b[38;5;124mgeometry\u001b[39m\u001b[38;5;124m'\u001b[39m)\u001b[38;5;241m.\u001b[39mset_crs(\u001b[38;5;241m4326\u001b[39m)\n\u001b[1;32m    109\u001b[0m     gdf[\u001b[38;5;124m\"\u001b[39m\u001b[38;5;124mplanar_x\u001b[39m\u001b[38;5;124m\"\u001b[39m] \u001b[38;5;241m=\u001b[39m gdf\u001b[38;5;241m.\u001b[39mto_crs(\u001b[38;5;241m2263\u001b[39m)\u001b[38;5;241m.\u001b[39mgeometry\u001b[38;5;241m.\u001b[39mx\n",
      "File \u001b[0;32m~/.local/share/virtualenvs/TOP-Sprint-lAvM2-mU/lib/python3.9/site-packages/pandas/core/frame.py:10347\u001b[0m, in \u001b[0;36mDataFrame.apply\u001b[0;34m(self, func, axis, raw, result_type, args, by_row, engine, engine_kwargs, **kwargs)\u001b[0m\n\u001b[1;32m  10333\u001b[0m \u001b[38;5;28;01mfrom\u001b[39;00m \u001b[38;5;21;01mpandas\u001b[39;00m\u001b[38;5;21;01m.\u001b[39;00m\u001b[38;5;21;01mcore\u001b[39;00m\u001b[38;5;21;01m.\u001b[39;00m\u001b[38;5;21;01mapply\u001b[39;00m \u001b[38;5;28;01mimport\u001b[39;00m frame_apply\n\u001b[1;32m  10335\u001b[0m op \u001b[38;5;241m=\u001b[39m frame_apply(\n\u001b[1;32m  10336\u001b[0m     \u001b[38;5;28mself\u001b[39m,\n\u001b[1;32m  10337\u001b[0m     func\u001b[38;5;241m=\u001b[39mfunc,\n\u001b[0;32m   (...)\u001b[0m\n\u001b[1;32m  10345\u001b[0m     kwargs\u001b[38;5;241m=\u001b[39mkwargs,\n\u001b[1;32m  10346\u001b[0m )\n\u001b[0;32m> 10347\u001b[0m \u001b[38;5;28;01mreturn\u001b[39;00m \u001b[43mop\u001b[49m\u001b[38;5;241;43m.\u001b[39;49m\u001b[43mapply\u001b[49m\u001b[43m(\u001b[49m\u001b[43m)\u001b[49m\u001b[38;5;241m.\u001b[39m__finalize__(\u001b[38;5;28mself\u001b[39m, method\u001b[38;5;241m=\u001b[39m\u001b[38;5;124m\"\u001b[39m\u001b[38;5;124mapply\u001b[39m\u001b[38;5;124m\"\u001b[39m)\n",
      "File \u001b[0;32m~/.local/share/virtualenvs/TOP-Sprint-lAvM2-mU/lib/python3.9/site-packages/pandas/core/apply.py:916\u001b[0m, in \u001b[0;36mFrameApply.apply\u001b[0;34m(self)\u001b[0m\n\u001b[1;32m    913\u001b[0m \u001b[38;5;28;01melif\u001b[39;00m \u001b[38;5;28mself\u001b[39m\u001b[38;5;241m.\u001b[39mraw:\n\u001b[1;32m    914\u001b[0m     \u001b[38;5;28;01mreturn\u001b[39;00m \u001b[38;5;28mself\u001b[39m\u001b[38;5;241m.\u001b[39mapply_raw(engine\u001b[38;5;241m=\u001b[39m\u001b[38;5;28mself\u001b[39m\u001b[38;5;241m.\u001b[39mengine, engine_kwargs\u001b[38;5;241m=\u001b[39m\u001b[38;5;28mself\u001b[39m\u001b[38;5;241m.\u001b[39mengine_kwargs)\n\u001b[0;32m--> 916\u001b[0m \u001b[38;5;28;01mreturn\u001b[39;00m \u001b[38;5;28;43mself\u001b[39;49m\u001b[38;5;241;43m.\u001b[39;49m\u001b[43mapply_standard\u001b[49m\u001b[43m(\u001b[49m\u001b[43m)\u001b[49m\n",
      "File \u001b[0;32m~/.local/share/virtualenvs/TOP-Sprint-lAvM2-mU/lib/python3.9/site-packages/pandas/core/apply.py:1063\u001b[0m, in \u001b[0;36mFrameApply.apply_standard\u001b[0;34m(self)\u001b[0m\n\u001b[1;32m   1061\u001b[0m \u001b[38;5;28;01mdef\u001b[39;00m \u001b[38;5;21mapply_standard\u001b[39m(\u001b[38;5;28mself\u001b[39m):\n\u001b[1;32m   1062\u001b[0m     \u001b[38;5;28;01mif\u001b[39;00m \u001b[38;5;28mself\u001b[39m\u001b[38;5;241m.\u001b[39mengine \u001b[38;5;241m==\u001b[39m \u001b[38;5;124m\"\u001b[39m\u001b[38;5;124mpython\u001b[39m\u001b[38;5;124m\"\u001b[39m:\n\u001b[0;32m-> 1063\u001b[0m         results, res_index \u001b[38;5;241m=\u001b[39m \u001b[38;5;28;43mself\u001b[39;49m\u001b[38;5;241;43m.\u001b[39;49m\u001b[43mapply_series_generator\u001b[49m\u001b[43m(\u001b[49m\u001b[43m)\u001b[49m\n\u001b[1;32m   1064\u001b[0m     \u001b[38;5;28;01melse\u001b[39;00m:\n\u001b[1;32m   1065\u001b[0m         results, res_index \u001b[38;5;241m=\u001b[39m \u001b[38;5;28mself\u001b[39m\u001b[38;5;241m.\u001b[39mapply_series_numba()\n",
      "File \u001b[0;32m~/.local/share/virtualenvs/TOP-Sprint-lAvM2-mU/lib/python3.9/site-packages/pandas/core/apply.py:1079\u001b[0m, in \u001b[0;36mFrameApply.apply_series_generator\u001b[0;34m(self)\u001b[0m\n\u001b[1;32m   1076\u001b[0m results \u001b[38;5;241m=\u001b[39m {}\n\u001b[1;32m   1078\u001b[0m \u001b[38;5;28;01mwith\u001b[39;00m option_context(\u001b[38;5;124m\"\u001b[39m\u001b[38;5;124mmode.chained_assignment\u001b[39m\u001b[38;5;124m\"\u001b[39m, \u001b[38;5;28;01mNone\u001b[39;00m):\n\u001b[0;32m-> 1079\u001b[0m     \u001b[38;5;28;01mfor\u001b[39;00m i, v \u001b[38;5;129;01min\u001b[39;00m \u001b[38;5;28menumerate\u001b[39m(series_gen):\n\u001b[1;32m   1080\u001b[0m         \u001b[38;5;66;03m# ignore SettingWithCopy here in case the user mutates\u001b[39;00m\n\u001b[1;32m   1081\u001b[0m         results[i] \u001b[38;5;241m=\u001b[39m \u001b[38;5;28mself\u001b[39m\u001b[38;5;241m.\u001b[39mfunc(v, \u001b[38;5;241m*\u001b[39m\u001b[38;5;28mself\u001b[39m\u001b[38;5;241m.\u001b[39margs, \u001b[38;5;241m*\u001b[39m\u001b[38;5;241m*\u001b[39m\u001b[38;5;28mself\u001b[39m\u001b[38;5;241m.\u001b[39mkwargs)\n\u001b[1;32m   1082\u001b[0m         \u001b[38;5;28;01mif\u001b[39;00m \u001b[38;5;28misinstance\u001b[39m(results[i], ABCSeries):\n\u001b[1;32m   1083\u001b[0m             \u001b[38;5;66;03m# If we have a view on v, we need to make a copy because\u001b[39;00m\n\u001b[1;32m   1084\u001b[0m             \u001b[38;5;66;03m#  series_generator will swap out the underlying data\u001b[39;00m\n",
      "File \u001b[0;32m~/.local/share/virtualenvs/TOP-Sprint-lAvM2-mU/lib/python3.9/site-packages/pandas/core/apply.py:1271\u001b[0m, in \u001b[0;36mFrameColumnApply.series_generator\u001b[0;34m(self)\u001b[0m\n\u001b[1;32m   1268\u001b[0m \u001b[38;5;28;01mfor\u001b[39;00m arr, name \u001b[38;5;129;01min\u001b[39;00m \u001b[38;5;28mzip\u001b[39m(values, \u001b[38;5;28mself\u001b[39m\u001b[38;5;241m.\u001b[39mindex):\n\u001b[1;32m   1269\u001b[0m     \u001b[38;5;66;03m# GH#35462 re-pin mgr in case setitem changed it\u001b[39;00m\n\u001b[1;32m   1270\u001b[0m     ser\u001b[38;5;241m.\u001b[39m_mgr \u001b[38;5;241m=\u001b[39m mgr\n\u001b[0;32m-> 1271\u001b[0m     \u001b[43mmgr\u001b[49m\u001b[38;5;241;43m.\u001b[39;49m\u001b[43mset_values\u001b[49m\u001b[43m(\u001b[49m\u001b[43marr\u001b[49m\u001b[43m)\u001b[49m\n\u001b[1;32m   1272\u001b[0m     \u001b[38;5;28mobject\u001b[39m\u001b[38;5;241m.\u001b[39m\u001b[38;5;21m__setattr__\u001b[39m(ser, \u001b[38;5;124m\"\u001b[39m\u001b[38;5;124m_name\u001b[39m\u001b[38;5;124m\"\u001b[39m, name)\n\u001b[1;32m   1273\u001b[0m     \u001b[38;5;28;01mif\u001b[39;00m \u001b[38;5;129;01mnot\u001b[39;00m is_view:\n\u001b[1;32m   1274\u001b[0m         \u001b[38;5;66;03m# In apply_series_generator we store the a shallow copy of the\u001b[39;00m\n\u001b[1;32m   1275\u001b[0m         \u001b[38;5;66;03m# result, which potentially increases the ref count of this reused\u001b[39;00m\n\u001b[0;32m   (...)\u001b[0m\n\u001b[1;32m   1278\u001b[0m         \u001b[38;5;66;03m# the refs here to avoid triggering a unnecessary CoW inside the\u001b[39;00m\n\u001b[1;32m   1279\u001b[0m         \u001b[38;5;66;03m# applied function (https://github.com/pandas-dev/pandas/pull/56212)\u001b[39;00m\n",
      "File \u001b[0;32m~/.local/share/virtualenvs/TOP-Sprint-lAvM2-mU/lib/python3.9/site-packages/pandas/core/internals/managers.py:2075\u001b[0m, in \u001b[0;36mSingleBlockManager.set_values\u001b[0;34m(self, values)\u001b[0m\n\u001b[1;32m   2072\u001b[0m \u001b[38;5;66;03m# NOTE(CoW) Currently this is only used for FrameColumnApply.series_generator\u001b[39;00m\n\u001b[1;32m   2073\u001b[0m \u001b[38;5;66;03m# which handles CoW by setting the refs manually if necessary\u001b[39;00m\n\u001b[1;32m   2074\u001b[0m \u001b[38;5;28mself\u001b[39m\u001b[38;5;241m.\u001b[39mblocks[\u001b[38;5;241m0\u001b[39m]\u001b[38;5;241m.\u001b[39mvalues \u001b[38;5;241m=\u001b[39m values\n\u001b[0;32m-> 2075\u001b[0m \u001b[38;5;28mself\u001b[39m\u001b[38;5;241m.\u001b[39mblocks[\u001b[38;5;241m0\u001b[39m]\u001b[38;5;241m.\u001b[39m_mgr_locs \u001b[38;5;241m=\u001b[39m \u001b[43mBlockPlacement\u001b[49m\u001b[43m(\u001b[49m\u001b[38;5;28;43mslice\u001b[39;49m\u001b[43m(\u001b[49m\u001b[38;5;28;43mlen\u001b[39;49m\u001b[43m(\u001b[49m\u001b[43mvalues\u001b[49m\u001b[43m)\u001b[49m\u001b[43m)\u001b[49m\u001b[43m)\u001b[49m\n",
      "\u001b[0;31mKeyboardInterrupt\u001b[0m: "
     ]
    }
   ],
   "source": [
    "process_gtfs_rt_main(tree, nodes, G, GTFS_PATH, CALCULATED_PAIR_PATH, OUT_PATH)"
   ]
  },
  {
   "cell_type": "code",
   "execution_count": 47,
   "metadata": {},
   "outputs": [
    {
     "data": {
      "text/plain": [
       "<Axes: >"
      ]
     },
     "execution_count": 47,
     "metadata": {},
     "output_type": "execute_result"
    },
    {
     "data": {
      "image/png": "[encoded data removed]",
      "text/plain": [
       "<Figure size 640x480 with 1 Axes>"
      ]
     },
     "metadata": {},
     "output_type": "display_data"
    }
   ],
   "source": [
    "bus_speed_segemented.query(\"speed_osm < 70\").query(\"`from` == 4209661118 & to == 4209661121.00\")['speed_osm'].hist()"
   ]
  },
  {
   "cell_type": "code",
   "execution_count": 23,
   "metadata": {},
   "outputs": [],
   "source": [
    "segment_speeds.to_parquet(\"segments_test.parquet\")"
   ]
  },
  {
   "cell_type": "code",
   "execution_count": null,
   "metadata": {},
   "outputs": [],
   "source": [
    "prepped_trips[\"time_diff_seconds\"] = prepped_trips.groupby(\"trip_id\")[\"timestamp\"].diff().dt.total_seconds()"
   ]
  }
 ],
 "metadata": {
  "kernelspec": {
   "display_name": "TOP-Sprint-lAvM2-mU",
   "language": "python",
   "name": "python3"
  },
  "language_info": {
   "codemirror_mode": {
    "name": "ipython",
    "version": 3
   },
   "file_extension": ".py",
   "mimetype": "text/x-python",
   "name": "python",
   "nbconvert_exporter": "python",
   "pygments_lexer": "ipython3",
   "version": "3.9.18"
  }
 },
 "nbformat": 4,
 "nbformat_minor": 2
}
